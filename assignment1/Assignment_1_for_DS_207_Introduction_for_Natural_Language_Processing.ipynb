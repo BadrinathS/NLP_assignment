{
 "cells": [
  {
   "cell_type": "markdown",
   "metadata": {
    "id": "OerOiObFAes2"
   },
   "source": [
    "# Assignment 1\n",
    "\n",
    "**DS: 207 Introduction to Natural Language Processing**\n",
    "\n",
    "**Due (Feb 6, 16:59 PM)**\n",
    "\n",
    "Development & Design: Debarpan Bhattacharya & Nicy Scaria.\n",
    "\n",
    "Testing: Kinshuk Vasisht"
   ]
  },
  {
   "cell_type": "markdown",
   "metadata": {
    "id": "a8KnPBvJEzX9"
   },
   "source": [
    "The goal of this assignment is introduce the basics of text processing, by building a few text classifiers, and learning to represent words.\n",
    "\n",
    "You'll have to add your code wherever you see the comment `# ADD YOUR CODE HERE`. Please make a copy of this assignment, and you can use Google Colab notebooks to work on this. Later, you can download this notebook as a python file and submit it as per the following instructions."
   ]
  },
  {
   "cell_type": "markdown",
   "metadata": {
    "id": "4qpIrZWGbSK0"
   },
   "source": [
    "## Submission Instructions:\n",
    "\n",
    "1. In the notebook, a few example codes are provided, whereas a few are kept blank for you to fill them up.\n",
    "2. The evaluation will be based on the results obtained by functions impleted by you. Do not change the print statements having `EVALUATION` as they are used for auto-evaluation.\n",
    "3. **Submission file(s)**:\n",
    "  \n",
    "  * Save this `.ipynb` to your drive, complete the required code blocks and run the notebook.\n",
    "  * After completing this assignment, download the notebook as`.py`. Name it as `SAPname_SRno_assignment1.py`, where `SAPname` refers to your name as per SAP record, and `SRno` refers to the last 5 digits of your IISc SR number. For example, IISc student with SAP name Twyla Linda (SR no - 04-03-00-10-22-20-1-15329) would name it as `Twyla_Linda_15329_assignment1.py`.\n",
    "  *   The files associated with the Word2Vec training, i.e., the `model.pt`, `vocab.pt`, `word_embeddings.npy` and `loss.json`, will be downloaded and saved in a folder with the name `SAPname_SRno`. Zip this folder along with the `.py` file, save it as `SAPname_SRno_assigment1` and upload on MS Teams. The zip folder should contain: (1) `SAPname_SRno_assignment1.py`, (2) a subfolder called `SAPname_SRno` which will contain `model.pt`, `vocab.pt` , `word_embeddings.npy` and `loss.json`.\n",
    "\n",
    "\n",
    "Because submissions are auto-graded, please ensure that the naming of the files is consistent with the instructions."
   ]
  },
  {
   "cell_type": "markdown",
   "metadata": {
    "id": "UAVFm89QjHP6"
   },
   "source": [
    "## Part I Text Classification (TA: Debarpan Bhattacharya)"
   ]
  },
  {
   "cell_type": "markdown",
   "metadata": {
    "id": "HQQTcvWL7Qtm"
   },
   "source": [
    "**Dataset**:\n",
    "\n",
    "We will dive into a basic text-based sentiment classification task. The dataset consists of sentences with two different kinds of sentiments- `positive`, and `negative` sentiments. Following are a set of examples,\n",
    "\n",
    "* **`positive`**: *I really like your new haircut!*\n",
    "* **`negative`**: *Your new haircut is awful!*\n",
    "\n",
    "The Dataset has a training set (`train_data.csv`- provided), a validation set (`val_data.csv`- provided) and a blind test set (`test_data.csv`- not provided). The notebook uses a `test_data.csv` file, but it is just a duplicate of `val_data.csv`, and the blind `test_data.csv` will replace it while grading your solutions.\n",
    "\n",
    "**Important**: Fix seed as 42 whenever performing any randomized operations, e.g., initializing ML models.\n"
   ]
  },
  {
   "cell_type": "markdown",
   "metadata": {
    "id": "b_gUoUztJVwX"
   },
   "source": [
    "### Download the dataset required for the assignment"
   ]
  },
  {
   "cell_type": "code",
   "execution_count": null,
   "metadata": {
    "colab": {
     "base_uri": "https://localhost:8080/"
    },
    "id": "waznd1GRGwFx",
    "outputId": "a9ff8c00-32a3-4e14-c39e-25bf5e455f8a"
   },
   "outputs": [
    {
     "name": "stdout",
     "output_type": "stream",
     "text": [
      "--2024-01-22 12:47:28--  https://docs.google.com/spreadsheets/d/176-KrOP8nhLpoW91UnrOY9oq_-I0XYNKS1zmqIErFsA/gviz/tq?tqx=out:csv&sheet=train_data.csv\n",
      "Resolving docs.google.com (docs.google.com)... 108.177.11.102, 108.177.11.139, 108.177.11.100, ...\n",
      "Connecting to docs.google.com (docs.google.com)|108.177.11.102|:443... connected.\n",
      "HTTP request sent, awaiting response... 200 OK\n",
      "Length: unspecified [text/csv]\n",
      "Saving to: ‘train_data.csv’\n",
      "\n",
      "train_data.csv          [            <=>     ]  15.12M  6.62MB/s    in 2.3s    \n",
      "\n",
      "2024-01-22 12:47:32 (6.62 MB/s) - ‘train_data.csv’ saved [15851033]\n",
      "\n",
      "--2024-01-22 12:47:32--  https://docs.google.com/spreadsheets/d/1YxjoAbatow3F5lbPEODToa8-YWvJoTY0aABS9zaXk-c/gviz/tq?tqx=out:csv&sheet=val_data.csv\n",
      "Resolving docs.google.com (docs.google.com)... 108.177.11.102, 108.177.11.139, 108.177.11.100, ...\n",
      "Connecting to docs.google.com (docs.google.com)|108.177.11.102|:443... connected.\n",
      "HTTP request sent, awaiting response... 200 OK\n",
      "Length: unspecified [text/csv]\n",
      "Saving to: ‘val_data.csv’\n",
      "\n",
      "val_data.csv            [    <=>             ]   5.14M  6.59MB/s    in 0.8s    \n",
      "\n",
      "2024-01-22 12:47:33 (6.59 MB/s) - ‘val_data.csv’ saved [5387545]\n",
      "\n",
      "--2024-01-22 12:47:33--  https://docs.google.com/spreadsheets/d/1YxjoAbatow3F5lbPEODToa8-YWvJoTY0aABS9zaXk-c/gviz/tq?tqx=out:csv&sheet=val_data.csv\n",
      "Resolving docs.google.com (docs.google.com)... 108.177.11.102, 108.177.11.139, 108.177.11.100, ...\n",
      "Connecting to docs.google.com (docs.google.com)|108.177.11.102|:443... connected.\n",
      "HTTP request sent, awaiting response... 200 OK\n",
      "Length: unspecified [text/csv]\n",
      "Saving to: ‘test_data.csv’\n",
      "\n",
      "test_data.csv           [    <=>             ]   5.14M  6.75MB/s    in 0.8s    \n",
      "\n",
      "2024-01-22 12:47:34 (6.75 MB/s) - ‘test_data.csv’ saved [5387545]\n",
      "\n"
     ]
    }
   ],
   "source": [
    "# download train data\n",
    "!wget -O train_data.csv \"https://docs.google.com/spreadsheets/d/176-KrOP8nhLpoW91UnrOY9oq_-I0XYNKS1zmqIErFsA/gviz/tq?tqx=out:csv&sheet=train_data.csv\"\n",
    "\n",
    "# download validation data\n",
    "!wget -O val_data.csv \"https://docs.google.com/spreadsheets/d/1YxjoAbatow3F5lbPEODToa8-YWvJoTY0aABS9zaXk-c/gviz/tq?tqx=out:csv&sheet=val_data.csv\"\n",
    "\n",
    "# download test data\n",
    "!wget -O test_data.csv \"https://docs.google.com/spreadsheets/d/1YxjoAbatow3F5lbPEODToa8-YWvJoTY0aABS9zaXk-c/gviz/tq?tqx=out:csv&sheet=val_data.csv\""
   ]
  },
  {
   "cell_type": "code",
   "execution_count": 1,
   "metadata": {
    "colab": {
     "base_uri": "https://localhost:8080/",
     "height": 204
    },
    "id": "d7B1k-8XOEqo",
    "outputId": "180224b9-7cb4-401a-d674-47e12a7aff02"
   },
   "outputs": [
    {
     "name": "stderr",
     "output_type": "stream",
     "text": [
      "/tmp/ipykernel_29751/1598495259.py:3: DeprecationWarning: \n",
      "Pyarrow will become a required dependency of pandas in the next major release of pandas (pandas 3.0),\n",
      "(to allow more performant data types, such as the Arrow string type, and better interoperability with other libraries)\n",
      "but was not found to be installed on your system.\n",
      "If this would cause problems for you,\n",
      "please provide us feedback at https://github.com/pandas-dev/pandas/issues/54466\n",
      "        \n",
      "  import pandas as pd\n"
     ]
    },
    {
     "data": {
      "text/html": [
       "<div>\n",
       "<style scoped>\n",
       "    .dataframe tbody tr th:only-of-type {\n",
       "        vertical-align: middle;\n",
       "    }\n",
       "\n",
       "    .dataframe tbody tr th {\n",
       "        vertical-align: top;\n",
       "    }\n",
       "\n",
       "    .dataframe thead th {\n",
       "        text-align: right;\n",
       "    }\n",
       "</style>\n",
       "<table border=\"1\" class=\"dataframe\">\n",
       "  <thead>\n",
       "    <tr style=\"text-align: right;\">\n",
       "      <th></th>\n",
       "      <th>review</th>\n",
       "      <th>sentiment</th>\n",
       "    </tr>\n",
       "  </thead>\n",
       "  <tbody>\n",
       "    <tr>\n",
       "      <th>0</th>\n",
       "      <td>I've watched this documentary twice - and alth...</td>\n",
       "      <td>positive</td>\n",
       "    </tr>\n",
       "    <tr>\n",
       "      <th>1</th>\n",
       "      <td>This is probably the worst movie I've seen in ...</td>\n",
       "      <td>negative</td>\n",
       "    </tr>\n",
       "    <tr>\n",
       "      <th>2</th>\n",
       "      <td>Superb story of a dedicated young teacher who ...</td>\n",
       "      <td>positive</td>\n",
       "    </tr>\n",
       "    <tr>\n",
       "      <th>3</th>\n",
       "      <td>&lt;br /&gt;&lt;br /&gt;Spoilers&lt;br /&gt;&lt;br /&gt;I'm going to b...</td>\n",
       "      <td>negative</td>\n",
       "    </tr>\n",
       "    <tr>\n",
       "      <th>4</th>\n",
       "      <td>What can be said, really... \"The Tenant\" is a ...</td>\n",
       "      <td>positive</td>\n",
       "    </tr>\n",
       "  </tbody>\n",
       "</table>\n",
       "</div>"
      ],
      "text/plain": [
       "                                              review sentiment\n",
       "0  I've watched this documentary twice - and alth...  positive\n",
       "1  This is probably the worst movie I've seen in ...  negative\n",
       "2  Superb story of a dedicated young teacher who ...  positive\n",
       "3  <br /><br />Spoilers<br /><br />I'm going to b...  negative\n",
       "4  What can be said, really... \"The Tenant\" is a ...  positive"
      ]
     },
     "execution_count": 1,
     "metadata": {},
     "output_type": "execute_result"
    }
   ],
   "source": [
    "#@title Read data\n",
    "import numpy as np\n",
    "import pandas as pd\n",
    "\n",
    "df = pd.read_csv('train_data.csv')\n",
    "df_val = pd.read_csv('val_data.csv')\n",
    "\n",
    "# Note that we will change the test file\n",
    "# when we grade assignments  ...\n",
    "# For now it is the same as the validation set\n",
    "df_test = pd.read_csv('test_data.csv')\n",
    "\n",
    "df.head()"
   ]
  },
  {
   "cell_type": "code",
   "execution_count": 2,
   "metadata": {
    "id": "kxi5DtdKOt7e"
   },
   "outputs": [],
   "source": [
    "#@title Prepare training, validation and test data.\n",
    "\n",
    "X_train, y_train = df.review.values.tolist(), df.sentiment.values.tolist()\n",
    "X_val, y_val = df_val.review.values.tolist(), df_val.sentiment.values.tolist()\n",
    "X_test, y_test = df_test.review.values.tolist(), df_test.sentiment.values.tolist()\n",
    "\n",
    "labels = ['negative', 'positive']\n",
    "\n",
    "# converting the sentiment labels into labels\n",
    "# class 0 for negagtive, and class 1 for positive\n",
    "y_train = [labels.index(i) for i in y_train]\n",
    "y_val = [labels.index(i) for i in y_val]\n",
    "y_test = [labels.index(i) for i in y_test]"
   ]
  },
  {
   "cell_type": "markdown",
   "metadata": {
    "id": "zGiZtZSpQmk5"
   },
   "source": [
    "#### Approach 1: Rule based classification\n",
    "\n",
    "The rule-based classification works using a few hand-crafted rules. In sentiment classification, few words are associated with positive sentiment and few others with negative sentiment. Let's attempt to build a classifier that predicts the sentiment of the reviews based on such words."
   ]
  },
  {
   "cell_type": "markdown",
   "metadata": {
    "id": "yRt7jQNVaPO2"
   },
   "source": [
    "Let's first write a few rules to extract important features about the input movie review. As an example, we provide a function that counts the number of `good` and `bad` words in the input.\n",
    "\n",
    "Below, you can see a sample rule-based classification system. Later, you will be building one yourself."
   ]
  },
  {
   "cell_type": "code",
   "execution_count": 3,
   "metadata": {
    "id": "JT_Et4xpPThR"
   },
   "outputs": [],
   "source": [
    "def sample_extract_features(X):\n",
    "    \"\"\"\n",
    "    Extracts features from a text input.\n",
    "\n",
    "    Args:\n",
    "        X (string): Text input.\n",
    "\n",
    "    Returns:\n",
    "        dictionary: features extracted from X.\n",
    "    \"\"\"\n",
    "\n",
    "    features = {}\n",
    "    X_split = X.split(' ')\n",
    "\n",
    "    # Count the number of \"good words\" and \"bad words\" in the text\n",
    "    good_words = ['love', 'good', 'brilliant', 'fantastic', 'amazing', 'great']\n",
    "    bad_words = ['hate', 'bad', 'horrible', 'awful', 'terrible', 'mess', 'frustating', 'frustatingly']\n",
    "\n",
    "    features['good_word_count'], features['bad_word_count'] = 0, 0\n",
    "    for x in X_split:\n",
    "        if x in good_words:\n",
    "            features['good_word_count'] = features.get('good_word_count', 0) + 1\n",
    "        if x in bad_words:\n",
    "            features['bad_word_count'] = features.get('bad_word_count', 0) + 1\n",
    "\n",
    "    # The \"bias\" value can be set to one, to allow us to assign a \"default\" score to the text\n",
    "    features['bias'] = 1\n",
    "    return features"
   ]
  },
  {
   "cell_type": "code",
   "execution_count": 4,
   "metadata": {
    "id": "PQea1rsPCCVz"
   },
   "outputs": [],
   "source": [
    "def sample_predict(X, feature_weights):\n",
    "    \"\"\"\n",
    "    Classifies the sentiment of a text input.\n",
    "\n",
    "    Args:\n",
    "        X (string): Text input.\n",
    "        feature_weights: weightage of different features.\n",
    "\n",
    "    Returns:\n",
    "        int: binary sentiment represented by 0/1.\n",
    "    \"\"\"\n",
    "\n",
    "    score = 0\n",
    "\n",
    "    # Here we just multiply the feature value\n",
    "    # with its corresponding weight and aggregate\n",
    "    for feat_name, feat_value in sample_extract_features(X).items():\n",
    "        score = score + feat_value * feature_weights[feat_name]\n",
    "\n",
    "    # the prediction is based on whether the aggregated score is above 0 or not\n",
    "    if score > 0:\n",
    "        return 1\n",
    "    else:\n",
    "        return 0"
   ]
  },
  {
   "cell_type": "code",
   "execution_count": 5,
   "metadata": {
    "id": "Mld2X8uP_1DK"
   },
   "outputs": [],
   "source": [
    "def get_sample_features_weights():\n",
    "  \"\"\"\n",
    "    To obtain feature weightage for different features.\n",
    "\n",
    "    Args:\n",
    "        None here.\n",
    "\n",
    "    Returns:\n",
    "        dictionary: feature names and their weightage.\n",
    "    \"\"\"\n",
    "  # Based on the selected features, you can manually assign them weights\n",
    "  feature_weights = {'good_word_count': 1.0, 'bad_word_count': -1.0, 'bias': 0.5}\n",
    "  return feature_weights"
   ]
  },
  {
   "cell_type": "code",
   "execution_count": 6,
   "metadata": {
    "id": "5soNJvv0AZeM"
   },
   "outputs": [],
   "source": [
    "#@title Computing the accuracy of the system\n",
    "\n",
    "def calculate_accuracy(Y_true, Y_pred):\n",
    "    \"\"\"\n",
    "    Calculates accuracy of predictions given the ground truth.\n",
    "\n",
    "    Args:\n",
    "        Y_true (list): Ground truth labels.\n",
    "        Y_pred (list): Predictions.\n",
    "\n",
    "    Returns:\n",
    "        float: Prediction accuracy in range [0.0-100.0].\n",
    "    \"\"\"\n",
    "    correct = 0.0\n",
    "    total = len(Y_true)\n",
    "\n",
    "    # verify if we have the same number of predictions as labels\n",
    "    assert len(Y_true) == len(Y_pred)\n",
    "\n",
    "    # count the number of correct predictions\n",
    "    for y_true, y_pred in zip(Y_true, Y_pred):\n",
    "        if y_true == y_pred:\n",
    "            correct += 1.0\n",
    "\n",
    "    if total > 0:\n",
    "        return 100. * correct / total\n",
    "\n",
    "    # return 0 if there the total number of examples are zero\n",
    "    return 0.0"
   ]
  },
  {
   "cell_type": "code",
   "execution_count": 7,
   "metadata": {
    "colab": {
     "base_uri": "https://localhost:8080/"
    },
    "id": "aUJxIXK6COeY",
    "outputId": "b174f919-e611-44ed-ba85-bbffbdc737b2"
   },
   "outputs": [
    {
     "name": "stdout",
     "output_type": "stream",
     "text": [
      "60.5\n"
     ]
    }
   ],
   "source": [
    "#@title Putting the sample rule-based classifier together\n",
    "\n",
    "# get the sample weights\n",
    "sample_feature_weights = get_sample_features_weights()\n",
    "\n",
    "predictions = []\n",
    "\n",
    "# for each test example, make a prediction\n",
    "for input_example in X_test:\n",
    "    y = sample_predict(input_example, sample_feature_weights)\n",
    "    predictions.append(y)\n",
    "\n",
    "# compute and print the accuracy\n",
    "print (calculate_accuracy(y_test, predictions))"
   ]
  },
  {
   "cell_type": "markdown",
   "metadata": {
    "id": "p5zIgT9sGejB"
   },
   "source": [
    "As you can observe here, the model achieves about 60% accuracy (note that the performance of a random classifier would be close to 50%)."
   ]
  },
  {
   "cell_type": "markdown",
   "metadata": {
    "id": "jUNaPV2KGyB1"
   },
   "source": [
    "### Build your own rule-based classifier (10 marks)\n",
    "\n",
    "Your have to write your own `extract_features`, `get_feature_weights` and `predict` functions for your rule-based classifier."
   ]
  },
  {
   "cell_type": "code",
   "execution_count": 8,
   "metadata": {
    "id": "Aio_eGugGuuZ"
   },
   "outputs": [],
   "source": [
    "def extract_features(X):\n",
    "    \"\"\"\n",
    "    Extracts features from a text input.\n",
    "\n",
    "    Args:\n",
    "        X (string): Text input.\n",
    "\n",
    "    Returns:\n",
    "        dictionary: features extracted from X.\n",
    "    \"\"\"\n",
    "    features = {}\n",
    "    features['bias'] = 1\n",
    "\n",
    "    # ADD YOUR CODE HERE\n",
    "\n",
    "    features = {}\n",
    "    X_split = X.split(' ')\n",
    "\n",
    "    # Count the number of \"good words\" and \"bad words\" in the text\n",
    "    # better_words = []\n",
    "    good_words = ['love','brilliant', 'superb', 'fantastic', 'perfect',  'amazing', 'good',   'amazing', 'wonderful' 'great', 'enjoyable', 'enjoy', 'loved', 'awesome', 'mesmerizing' ]\n",
    "    bad_words = [ 'poor', 'horrible', 'disgusting', 'terrible', 'hate',  'suffer', 'worst', 'dissapointment', 'lack', 'predictable','dumbest','wasted', 'pity',  'bad',  'dreadful', 'wasting', 'awful',  'mess', 'frustating', 'frustatingly']\n",
    "    # worst_words = []\n",
    "\n",
    "    features['good_word_count'], features['bad_word_count'] = 0, 0\n",
    "    for x in X_split:\n",
    "        x = x.lower()\n",
    "        if x in good_words:\n",
    "            features['good_word_count'] = features.get('good_word_count', 0) + 1\n",
    "        if x in bad_words:\n",
    "            features['bad_word_count'] = features.get('bad_word_count', 0) + 1\n",
    "\n",
    "        # if x in better_words:\n",
    "        #     features['better_word_count'] = features.get('better_word_count', 0) + 1\n",
    "        # if x in worst_words:\n",
    "        #     features['worst_word_count'] = features.get('worst_word_count', 0) + 1\n",
    "\n",
    "    # please extract features that you think would be useful.\n",
    "\n",
    "    return features"
   ]
  },
  {
   "cell_type": "code",
   "execution_count": 9,
   "metadata": {
    "id": "SY0ioIklQp-J"
   },
   "outputs": [],
   "source": [
    "def get_feature_weights():\n",
    "    \"\"\"\n",
    "    To obtain feature weightage for different features.\n",
    "\n",
    "    Args:\n",
    "        None here.\n",
    "\n",
    "    Returns:\n",
    "        dictionary: feature names and their weightage.\n",
    "    \"\"\"\n",
    "\n",
    "    feature_weights = {}\n",
    "    feature_weights['bias'] = 0.5\n",
    "\n",
    "    # ADD YOUR CODE HERE\n",
    "    \n",
    "    feature_weights = {'good_word_count': 1.0, 'bad_word_count': -1.0,  'bias': 0.5}\n",
    "\n",
    "    # please manually assign feature weights to the features you've extracted\n",
    "\n",
    "    return feature_weights"
   ]
  },
  {
   "cell_type": "code",
   "execution_count": 10,
   "metadata": {
    "id": "hKqwGoZ-H7x4"
   },
   "outputs": [],
   "source": [
    "def predict(X, feature_weights):\n",
    "    \"\"\"\n",
    "    Classifies the sentiment of a text input.\n",
    "\n",
    "    Args:\n",
    "        X (string): Text input.\n",
    "        feature_weights: weightage of different features.\n",
    "\n",
    "    Returns:\n",
    "        int: binary sentiment represented by 0/1.\n",
    "    \"\"\"\n",
    "\n",
    "    # ADD YOUR CODE HERE\n",
    "\n",
    "    score = 0\n",
    "    for feat_name, feat_value in extract_features(X).items():\n",
    "        # print(feat_name, feat_value)\n",
    "        # print(get_feature_weights[feat_name])\n",
    "        score = score + feat_value * get_feature_weights()[feat_name]\n",
    "\n",
    "    # the prediction is based on whether the aggregated score is above 0 or not\n",
    "    if score > 0:\n",
    "        return 1\n",
    "    else:\n",
    "        return 0\n",
    "\n",
    "    # return 1.0"
   ]
  },
  {
   "cell_type": "code",
   "execution_count": 11,
   "metadata": {
    "colab": {
     "base_uri": "https://localhost:8080/"
    },
    "id": "kxv4-0mJIJS5",
    "outputId": "08bd267c-046b-4392-ca12-fc7a03607fdb"
   },
   "outputs": [
    {
     "name": "stdout",
     "output_type": "stream",
     "text": [
      "EVALUATION of rule-based classifier is: 64.65\n"
     ]
    }
   ],
   "source": [
    "#@title Evaluating your rule-based classifier\n",
    "\n",
    "## Please do not change anything in this code block.\n",
    "\n",
    "feature_weights = get_feature_weights()\n",
    "\n",
    "predictions = []\n",
    "\n",
    "for input_example in X_test:\n",
    "    y = predict(input_example, feature_weights)\n",
    "    predictions.append(y)\n",
    "\n",
    "print (f\"EVALUATION of rule-based classifier is: {calculate_accuracy(y_test, predictions)}\")"
   ]
  },
  {
   "cell_type": "markdown",
   "metadata": {
    "id": "6u1EmkV5IaDR"
   },
   "source": [
    "You will be evaluated based on the performance of your rule-based classifier. Please note that the sample rule-based classifier achieves about 60% accuracy. Anything below 60% will not yield any points.\n",
    "\n",
    "***Please do not change the evaluation code in the block above, as it would be used to grade your classifier***."
   ]
  },
  {
   "cell_type": "markdown",
   "metadata": {
    "id": "7ZqIJHzbJiQe"
   },
   "source": [
    "Below, we will directly learn the feature weights, rather than manually assigning those ourselves as manual assignment can be error-prone and labor intensive."
   ]
  },
  {
   "cell_type": "code",
   "execution_count": 12,
   "metadata": {
    "id": "6FTuS2MOgDUU"
   },
   "outputs": [],
   "source": [
    "#@title Learning the weights of extracted features using logistic regression.\n",
    "\n",
    "from sklearn.linear_model import LogisticRegression\n",
    "\n",
    "def get_sample_learnable_weights(X_data, Y_data, sample_extract_features):\n",
    "    \"\"\"\n",
    "    Learn feature weights using the training data.\n",
    "\n",
    "    Args:\n",
    "        X_data (list of strings): All the text data points in training data.\n",
    "        Y_data (list of int): Ground truth labels for text data points in X_data.\n",
    "        sample_extract_features: A Function that extracts features from text sample.\n",
    "                                 The sample_extract_features function should be of the\n",
    "                                 same format as sample_extract_features(X) function\n",
    "                                 implemented above.\n",
    "\n",
    "        Returns:\n",
    "            dictionary: feature names and their learned weights.\n",
    "    \"\"\"\n",
    "    # training a logistic regression model for classification using\n",
    "    # the features obtained by sample_extract_features(X) function.\n",
    "\n",
    "    # get all feature names\n",
    "    feature_names = list(sample_extract_features(X_data[0]).keys())\n",
    "\n",
    "    # Below code snippet accumulates features extracted from all the\n",
    "    # text data points in X_data.\n",
    "    all_features = []\n",
    "    # iterate over all text data points in X_data.\n",
    "    for input_example in X_data:\n",
    "      feature = [] # to store features extracted from input_example.\n",
    "      feat_dict = sample_extract_features(input_example)\n",
    "\n",
    "      # iterate over different feature names and store the corresonding values.\n",
    "      for name in feature_names:\n",
    "        feature.append(feat_dict[name])\n",
    "      all_features.append(feature) # append features obtained from input_example to all_features.\n",
    "\n",
    "    # Below, we show how to fit a logistic regression (LR) model using the features and the target labels.\n",
    "    # We use Sklearn's 'LogisticRegression' to do this. While initiating, 'fit_intercept' is set False,\n",
    "    # because 'bias' is already included in the extracted feature (see sample_extract_features() implementation).\n",
    "    # Also, random state is set to 42 to avoid different initialization of the model while running the codebook\n",
    "    # multiple times.\n",
    "    clf = LogisticRegression(fit_intercept=False, random_state=42).fit(all_features, Y_data)\n",
    "\n",
    "    # As training a logistic regression model assigns weights to each of the features (refer class notes),\n",
    "    # these weights are learnable and we will use them as learned feature weights.\n",
    "\n",
    "    # extract feature weights.\n",
    "    coffs = clf.coef_[0]\n",
    "\n",
    "    # convert to dictionary\n",
    "    coffs_dict = {feature_names[i]: coffs[i] for i in range(len(feature_names))}\n",
    "\n",
    "    return coffs_dict"
   ]
  },
  {
   "cell_type": "code",
   "execution_count": 13,
   "metadata": {
    "colab": {
     "base_uri": "https://localhost:8080/"
    },
    "id": "YsCdOCq6mtJ1",
    "outputId": "ec838df1-198f-4e2c-efef-4b3c87b43c97"
   },
   "outputs": [
    {
     "name": "stdout",
     "output_type": "stream",
     "text": [
      "63.775\n"
     ]
    }
   ],
   "source": [
    "#@title Putting the sample rule-based classifier with learnable weights together\n",
    "\n",
    "# get the sample weights\n",
    "sample_feature_weights_lr = get_sample_learnable_weights(X_train, y_train, sample_extract_features)\n",
    "\n",
    "predictions = []\n",
    "\n",
    "for input_example in X_test:\n",
    "    y = sample_predict(input_example, sample_feature_weights_lr)\n",
    "    predictions.append(y)\n",
    "\n",
    "print (calculate_accuracy(y_test, predictions))"
   ]
  },
  {
   "cell_type": "markdown",
   "metadata": {
    "id": "K29X_7C4zfVH"
   },
   "source": [
    "As you can observe here, the model achieves about 63% accuracy (note that the performance of a random classifier would be close to 50%). Note that, the performance significantly improves by making the weights learnable as compared to the manual weights."
   ]
  },
  {
   "cell_type": "markdown",
   "metadata": {
    "id": "M7ztqIifzwud"
   },
   "source": [
    "## How does learnable weights-based classifier work on the features you implemented (3 marks)\n",
    "\n",
    "Your don't have to write anything here except simply running the below kernel.\n",
    "Depending upon the quality of your features, your classifier performance will vary."
   ]
  },
  {
   "cell_type": "code",
   "execution_count": 14,
   "metadata": {
    "colab": {
     "base_uri": "https://localhost:8080/"
    },
    "id": "FvVJYi980W0y",
    "outputId": "bb262814-0151-409e-cf9c-a08ff6296b98"
   },
   "outputs": [
    {
     "name": "stdout",
     "output_type": "stream",
     "text": [
      "EVALUATION of rule-based classifier with learnable weights is: 64.65\n"
     ]
    }
   ],
   "source": [
    "#@title Evaluating your rule-based classifier with learnable weights.\n",
    "\n",
    "## Please do not change anything in this code block.\n",
    "feature_weights_lr = get_sample_learnable_weights(X_train, y_train, extract_features)\n",
    "\n",
    "predictions = []\n",
    "\n",
    "for input_example in X_test:\n",
    "    y = predict(input_example, feature_weights_lr)\n",
    "    predictions.append(y)\n",
    "\n",
    "print (f\"EVALUATION of rule-based classifier with learnable weights is: {calculate_accuracy(y_test, predictions)}\")"
   ]
  },
  {
   "cell_type": "code",
   "execution_count": 15,
   "metadata": {
    "colab": {
     "base_uri": "https://localhost:8080/",
     "height": 508
    },
    "id": "E2jMSsYLwY3L",
    "outputId": "a54e6df5-1aea-4246-c20a-f53cf2411194"
   },
   "outputs": [
    {
     "data": {
      "image/png": "[encoded data removed]",
      "text/plain": [
       "<Figure size 640x480 with 1 Axes>"
      ]
     },
     "metadata": {},
     "output_type": "display_data"
    }
   ],
   "source": [
    "#@title Visualization and comparison between manual and learnable weights.\n",
    "\n",
    "# visualize and compare the manual weights vs learnt weights.\n",
    "\n",
    "import matplotlib.pyplot as plt\n",
    "import numpy as np\n",
    "\n",
    "feature_names = list(sample_feature_weights.keys())\n",
    "manual_weights = [sample_feature_weights[name] for name in feature_names]\n",
    "learnt_weights = [sample_feature_weights_lr[name] for name in feature_names]\n",
    "weights_dict = {\n",
    "    'Manual weights': manual_weights,\n",
    "    'Learnt weights': learnt_weights,\n",
    "}\n",
    "\n",
    "x = np.arange(len(feature_names))  # the label locations\n",
    "width = 0.35  # the width of the bars\n",
    "multiplier = 0\n",
    "\n",
    "fig, ax = plt.subplots(layout='constrained')\n",
    "\n",
    "for attribute, measurement in weights_dict.items():\n",
    "    offset = width * multiplier\n",
    "    rects = ax.bar(x + offset, measurement, width, label=attribute)\n",
    "    ax.bar_label(rects, padding=3)\n",
    "    multiplier += 1\n",
    "\n",
    "# Add some text for labels, title and custom x-axis tick labels, etc.\n",
    "ax.set_ylabel('weight')\n",
    "ax.set_title('Manual vs learnable weights comparison')\n",
    "ax.set_xticks(x + width, feature_names)\n",
    "ax.legend(loc='upper left', ncols=2)\n",
    "ax.set_ylim(-2, 2)\n",
    "\n",
    "plt.savefig('manual_vs_learned_weights.png')\n",
    "# Refer to the saved manual_vs_learned_weights.png to see how manual and learned weights compare."
   ]
  },
  {
   "cell_type": "markdown",
   "metadata": {
    "id": "TirWZWbRjnJH"
   },
   "source": [
    "### Approach 2: Bag-of-Words (BoW) (10 marks)\n",
    "\n",
    "The BoW vector representations is based on the unordered counts of words piece of text (similar to a \"bag\" of words).\n",
    "\n",
    "Let's attempt to build a classifier that tries to classify the reviews based on such vectors."
   ]
  },
  {
   "cell_type": "code",
   "execution_count": 16,
   "metadata": {
    "id": "TeavAClasyz6"
   },
   "outputs": [],
   "source": [
    "# implement your BoW classifier. In case the total number of words are very large,\n",
    "# consider using top-k most frequent words (e.g. k=10,000) while creating BoW vectors.\n",
    "\n",
    "# The below function finds out all words present in the corpus and assigns each word to\n",
    "# an index.\n",
    "from collections import Counter\n",
    "\n",
    "def word_to_idx_BOW(X_data, K=10000):\n",
    "    \"\"\"\n",
    "    Generates a set of word-index pairs after analyzing all words present in entire\n",
    "    data corpus X_data.\n",
    "\n",
    "    Args:\n",
    "        X_data (list of strings): All the text data points in training data.\n",
    "        K (int): The number of most frequent words to be considered.\n",
    "                 In case (K-p)th to (K+q)th words in most frequent words order\n",
    "                 have same frequency, you can choose p words randomly from those\n",
    "                 (p+q) number of words.\n",
    "\n",
    "        Returns:\n",
    "            dictionary: words as keys and indices as values.\n",
    "    \"\"\"\n",
    "    word_to_idx = {}\n",
    "    \n",
    "    all_text = ' '.join(X_data)\n",
    "\n",
    "    # Tokenize the text into words\n",
    "    words = all_text.split()\n",
    "\n",
    "    # Count the occurrences of each word\n",
    "    word_counts = Counter(words)\n",
    "\n",
    "    # Select the top K most frequent words\n",
    "    most_frequent_words = [word for word, _ in word_counts.most_common(K)]\n",
    "    # print(most_frequent_words)\n",
    "    for idx, word in enumerate(most_frequent_words):\n",
    "        # print(idx, word)\n",
    "        word_to_idx[word] = idx\n",
    "\n",
    "    \n",
    "    # for sentence in X_data:\n",
    "    #     words = sentence.split(' ')\n",
    "        \n",
    "    #     for word in words:\n",
    "    #         word_to_idx[word] = word_to_idx.get(word, 0) + 1\n",
    "            \n",
    "    # sorted(word_to_idx.items(), key=lambda x:-x[1])[:K]\n",
    "    \n",
    "    # idx = 0\n",
    "    # for key in word_to_idx.keys():\n",
    "    #     word_to_idx[key] = idx\n",
    "    #     idx += 1\n",
    "    \n",
    "    # ADD YOUR CODE HERE\n",
    "    # print(word_to_idx)\n",
    "    return word_to_idx\n",
    "\n",
    "# generate BoW feature for text input X.\n",
    "def extract_features_BoW(X, word_to_idx):\n",
    "    \"\"\"\n",
    "    Generates BoW feature for X using word_to_idx.\n",
    "\n",
    "    Args:\n",
    "        X (string): text input.\n",
    "        word_to_idx (dictionary): word-index mapping with words as keys and\n",
    "                                  indices as values.\n",
    "\n",
    "        Returns:\n",
    "            dictionary: features of X.\n",
    "    \"\"\"\n",
    "    features = {}\n",
    "    # ADD YOUR CODE HERE\n",
    "    \n",
    "    # print(word_to_idx)\n",
    "    words = X.split()\n",
    "\n",
    "    # Count the occurrences of each word in the word_to_idx mapping\n",
    "    for word in words:\n",
    "        idx = word_to_idx.get(word, -1)\n",
    "        if idx != -1:\n",
    "            features[word] = features.get(word, 0) + 1\n",
    "\n",
    "    return features\n",
    "    "
   ]
  },
  {
   "cell_type": "code",
   "execution_count": 17,
   "metadata": {
    "colab": {
     "base_uri": "https://localhost:8080/"
    },
    "id": "2HiruQeAvMr0",
    "outputId": "d319cdf1-0480-43bc-8ff6-0d3d56e49e2d"
   },
   "outputs": [
    {
     "name": "stdout",
     "output_type": "stream",
     "text": [
      "{'When': 1, 'is': 1, 'the': 1, 'homework': 1, 'due': 1, '?': 1}\n"
     ]
    }
   ],
   "source": [
    "# checking the outputs of the above functions on a small set of examples\n",
    "\n",
    "sample_data = [\n",
    "    \"When is the homework due ?\",\n",
    "    \"When are the TAs' office hours ?\",\n",
    "    \"How hard is the homework ?\",\n",
    "]\n",
    "word_to_idx = word_to_idx_BOW(sample_data)\n",
    "features = extract_features_BoW(sample_data[0], word_to_idx)\n",
    "print(features)"
   ]
  },
  {
   "cell_type": "code",
   "execution_count": 18,
   "metadata": {
    "id": "ErmQIuFWTpa_"
   },
   "outputs": [],
   "source": [
    "#@title Implement your feature weight learning for BoW classifier\n",
    "from sklearn.linear_model import LinearRegression\n",
    "from sklearn.feature_extraction.text import CountVectorizer\n",
    "\n",
    "def get_learnable_weights_BoW(X_data, Y_data, word_to_idx_BOW, extract_features_BoW):\n",
    "    \"\"\"\n",
    "    Learning feature weights for BoW features, using training data.\n",
    "\n",
    "    Args:\n",
    "        X_data (list of strings): All the text data points in training data.\n",
    "        Y_data (list of int): Ground truth labels for text data points in X_data.\n",
    "        word_to_idx_BOW: A Function that looks at all the words in data corpus X_data\n",
    "                         and returns word-index mapping. You had to implement\n",
    "                         word_to_idx_BOW() funtion above.\n",
    "        extract_features_BoW: A Function that extracts BoW features from text sample.\n",
    "                              The extract_features_BoW() function had to be implemented\n",
    "                              by you above.\n",
    "\n",
    "        Returns:\n",
    "            dictionary: feature names and their learned weights.\n",
    "    \"\"\"\n",
    "\n",
    "    # ADD YOUR CODE HERE\n",
    "    \n",
    "    coffs_dict = {}\n",
    "    \n",
    "    # vectorizer = CountVectorizer(vocabulary=word_to_idx_BOW(X_data))\n",
    "    # X_bow = vectorizer.fit_transform(X_data)\n",
    "\n",
    "    # Initialize a linear regression model\n",
    "#     model = LinearRegression()\n",
    "    model = LogisticRegression(fit_intercept=False, random_state=42, max_iter=90)\n",
    "\n",
    "    word_to_idx = word_to_idx_BOW(X_data)\n",
    "    feature_name = list(word_to_idx.keys())\n",
    "    feature_all = []\n",
    "    \n",
    "    for string in X_data:\n",
    "        \n",
    "        features = extract_features_BoW(string, word_to_idx)\n",
    "        feature_string = []\n",
    "        for keys in feature_name:\n",
    "            feature_string.append(features.get(keys,0))\n",
    "#         print(len(features))\n",
    "        feature_all.append(feature_string)\n",
    "    print(np.array(feature_all).shape)\n",
    "\n",
    "\n",
    "    # Fit the model using BoW features and ground truth labels\n",
    "    model.fit(feature_all, Y_data)\n",
    "\n",
    "    # Get the learned weights and corresponding feature names\n",
    "    \n",
    "    coffs = model.coef_[0]\n",
    "\n",
    "    # convert to dictionary\n",
    "    coffs_dict = {feature_name[i]: coffs[i] for i in range(len(feature_name))}\n",
    "    \n",
    "    \n",
    "#     learned_weights = model.coef_\n",
    "#     feature_names = vectorizer.get_feature_names_out()\n",
    "\n",
    "#     # Create a dictionary with feature names and their learned weights\n",
    "#     coffs_dict = {feature_names[i]: learned_weights[i] for i in range(len(feature_names))}\n",
    "\n",
    "    # return weights_dict\n",
    "\n",
    "    return coffs_dict"
   ]
  },
  {
   "cell_type": "code",
   "execution_count": 19,
   "metadata": {
    "id": "eJSKciYNYNXx"
   },
   "outputs": [
    {
     "name": "stdout",
     "output_type": "stream",
     "text": [
      "(12000, 10000)\n"
     ]
    },
    {
     "name": "stderr",
     "output_type": "stream",
     "text": [
      "/data3/rishubh/anaconda3/envs/badrinath_inv-graph/lib/python3.9/site-packages/sklearn/linear_model/_logistic.py:460: ConvergenceWarning: lbfgs failed to converge (status=1):\n",
      "STOP: TOTAL NO. of ITERATIONS REACHED LIMIT.\n",
      "\n",
      "Increase the number of iterations (max_iter) or scale the data as shown in:\n",
      "    https://scikit-learn.org/stable/modules/preprocessing.html\n",
      "Please also refer to the documentation for alternative solver options:\n",
      "    https://scikit-learn.org/stable/modules/linear_model.html#logistic-regression\n",
      "  n_iter_i = _check_optimize_result(\n"
     ]
    },
    {
     "name": "stdout",
     "output_type": "stream",
     "text": [
      "EVALUATION of BoW classifier is: 85.05\n"
     ]
    }
   ],
   "source": [
    "#@title Evaluating your BoW classifier\n",
    "\n",
    "def predict(X, feature_weights):\n",
    "    \"\"\"\n",
    "    Classifies the sentiment of a text input.\n",
    "\n",
    "    Args:\n",
    "        X (string): Text input.\n",
    "        feature_weights: weightage of different features.\n",
    "\n",
    "    Returns:\n",
    "        int: binary sentiment represented by 0/1.\n",
    "    \"\"\"\n",
    "    # ADD YOUR CODE HERE\n",
    "    \n",
    "    score = 0\n",
    "    for feat_name, feat_value in extract_features_BoW(X, feature_weights).items():\n",
    "        # print(feat_name, feat_value)\n",
    "        # print(get_feature_weights[feat_name])\n",
    "        score = score + feat_value * feature_weights[feat_name]\n",
    "    \n",
    "    \n",
    "    \n",
    "    \n",
    "    \n",
    "    \n",
    "    \n",
    "#     input_bow = extract_features_BoW(X, feature_weights)\n",
    "\n",
    "#     # Calculate the score using the learned feature weights\n",
    "#     score = sum(feature_weights.get(word, 0) * input_bow[feature_weights.get(word, 0)] for word in input_bow)\n",
    "\n",
    "    # Use a threshold to classify sentiment (e.g., if score > 0.5, classify as positive)\n",
    "    binary_sentiment = 1 if score > 0.5 else 0\n",
    "\n",
    "    return binary_sentiment\n",
    "\n",
    "    return 1.0\n",
    "\n",
    "# get the sample weights\n",
    "BoW_feature_weights_lr = get_learnable_weights_BoW(X_train, y_train, word_to_idx_BOW, extract_features_BoW)\n",
    "# print(BoW_feature_weights_lr)\n",
    "predictions = []\n",
    "\n",
    "for input_example in X_test:\n",
    "    y = predict(input_example, BoW_feature_weights_lr)\n",
    "    predictions.append(y)\n",
    "\n",
    "print (f\"EVALUATION of BoW classifier is: {calculate_accuracy(y_test, predictions)}\")"
   ]
  },
  {
   "cell_type": "markdown",
   "metadata": {
    "id": "0DPrrDVmF4qs"
   },
   "source": [
    "## Finding most positive and most negative words (2 Marks)\n",
    "\n",
    "Based on the magnitude of weights corresponding to different words, write down code to find the 5 most positive words and 5 most negative words."
   ]
  },
  {
   "cell_type": "code",
   "execution_count": 20,
   "metadata": {
    "colab": {
     "base_uri": "https://localhost:8080/"
    },
    "id": "C6aX7UrbF_cx",
    "outputId": "77473227-6e29-4036-dfe2-bff1a88333da"
   },
   "outputs": [
    {
     "name": "stdout",
     "output_type": "stream",
     "text": [
      "EVALUATION five most positive words: amazing excellent favorite subtle wonderfully\n",
      "EVALUATION five most negative words: waste poorly fails Unfortunately, worst\n"
     ]
    }
   ],
   "source": [
    "most_positive_words = []\n",
    "most_negative_words = []\n",
    "\n",
    "## WRITE CODE HERE TO POPULATE THESE LISTS\n",
    "## most_postive_words and most_negative_words should be list of strings\n",
    "max_weight = -100000\n",
    "min_weight = 100000\n",
    "sorted_dict = {k: v for k, v in sorted(BoW_feature_weights_lr.items(), key=lambda item: item[1])}\n",
    "for i, (key, val) in enumerate(sorted_dict.items()):\n",
    "    if i<5:\n",
    "        most_negative_words.append(key)\n",
    "    if len(sorted_dict) - i<6:\n",
    "        most_positive_words.append(key)\n",
    "\n",
    "assert (len(most_positive_words) == 5)\n",
    "assert (len(most_negative_words) == 5)\n",
    "\n",
    "print(\"EVALUATION five most positive words: \" + \" \".join(most_positive_words))\n",
    "print(\"EVALUATION five most negative words: \" + \" \".join(most_negative_words))"
   ]
  },
  {
   "cell_type": "markdown",
   "metadata": {
    "id": "w48UudOSjLnh"
   },
   "source": [
    "## Part II Word2Vec (TA: Nicy Scaria)  (25 Marks)\n",
    "\n",
    "Word2vec is one of the most popular techniques to learn word embeddings. The idea behind word2vec was that the meaning of a word is determined by the context in which it occurs. A word embedding is a learned representation for text where words that have the same meaning have a similar representation.\n",
    "\n",
    "**Word2vec** model has 2 architectures:\n",
    "\n",
    "1. **Continuous bag of word (CBOW):**\n",
    "\n",
    "    CBOW predicts the center word from the surrounding context words.\n",
    "\n",
    "2. **Skip-gram:**\n",
    "\n",
    "    Skip-gram predicts surrounding context words from the center word."
   ]
  },
  {
   "cell_type": "markdown",
   "metadata": {
    "id": "baausB5gkhhT"
   },
   "source": [
    "#### SkipGram from Scratch\n",
    "\n",
    "In this exercise, you will code the skipgram model from scratch using the PyTorch library."
   ]
  },
  {
   "cell_type": "code",
   "execution_count": 21,
   "metadata": {
    "colab": {
     "base_uri": "https://localhost:8080/"
    },
    "id": "_LqI4ImZcP-I",
    "outputId": "1424fd65-89f0-4665-868e-b8f40d7bbc06"
   },
   "outputs": [
    {
     "name": "stdout",
     "output_type": "stream",
     "text": [
      "Defaulting to user installation because normal site-packages is not writeable\n",
      "Looking in indexes: https://pypi.org/simple, https://pypi.ngc.nvidia.com\n",
      "Requirement already satisfied: portalocker in /home/babu/.local/lib/python3.6/site-packages (2.7.0)\n"
     ]
    }
   ],
   "source": [
    "!pip install portalocker #make sure you install the library and restart the session"
   ]
  },
  {
   "cell_type": "code",
   "execution_count": 1,
   "metadata": {
    "id": "_pTSKA5fiVQs"
   },
   "outputs": [],
   "source": [
    "# importing the necessary libraries\n",
    "import torch\n",
    "from functools import partial\n",
    "import torch.nn as nn\n",
    "from torch.utils.data import DataLoader\n",
    "from torchtext.data import to_map_style_dataset\n",
    "from torchtext.data.utils import get_tokenizer\n",
    "from torchtext.vocab import build_vocab_from_iterator\n",
    "from torchtext.datasets import WikiText2\n",
    "import torch.optim as optim\n",
    "from torch.optim.lr_scheduler import LambdaLR\n",
    "\n",
    "import os\n",
    "import gc\n",
    "import numpy as np\n",
    "from tqdm.auto import trange\n",
    "import json\n",
    "import argparse"
   ]
  },
  {
   "cell_type": "markdown",
   "metadata": {
    "id": "6Lu8GMxMlZ0f"
   },
   "source": [
    "> **In the following code the add your hyperparameters for the network.**"
   ]
  },
  {
   "cell_type": "code",
   "execution_count": 2,
   "metadata": {
    "id": "RZeXkPW6URMu"
   },
   "outputs": [],
   "source": [
    "# Initialization\n",
    "\n",
    "\n",
    "\"\"\"choose your hyperparameter and see the difference in performance\"\"\"\n",
    "\n",
    "# ADD YOUR CODE HERE\n",
    "\n",
    "# CHANGE THE None VALUES TO YOUR DESIRED VALUES\n",
    "# Please free to play with these hyperparameters to see the effects on the\n",
    "# quality of generated embeddings\n",
    "\n",
    "\n",
    "SKIPGRAM_N_WORDS = 3 # the length of the context on each side (k)\n",
    "\n",
    "MIN_WORD_FREQUENCY = 3 # only words with a minimum word frequency considered\n",
    "MAX_SEQUENCE_LENGTH = 512 # sentences with length more than this value truncated\n",
    "\n",
    "EMBED_DIMENSION = 50 # dimension of the word2vec vectors\n",
    "\n",
    "EMBED_MAX_NORM = 1"
   ]
  },
  {
   "cell_type": "code",
   "execution_count": 3,
   "metadata": {
    "id": "FxyJ0Q1fT62V"
   },
   "outputs": [],
   "source": [
    "def get_english_tokenizer():\n",
    "    \"\"\"\n",
    "    Documentation:\n",
    "    https://pytorch.org/text/stable/_modules/torchtext/data/utils.html#get_tokenizer\n",
    "    \"\"\"\n",
    "    tokenizer = get_tokenizer(\"basic_english\", language=\"en\")\n",
    "    return tokenizer\n",
    "\n",
    "def get_data_iterator(ds_name, ds_type, data_dir):\n",
    "    \"\"\"\n",
    "    input dataset used:\n",
    "    https://paperswithcode.com/dataset/wikitext-2\n",
    "    This is directly imported from PyTorch.\n",
    "    \"\"\"\n",
    "    data_iter = WikiText2(root=data_dir, split=(ds_type))\n",
    "    data_iter = to_map_style_dataset(data_iter)\n",
    "    return data_iter\n",
    "\n",
    "def build_vocab(data_iter, tokenizer):\n",
    "    \"\"\"Builds vocabulary from iterator\"\"\"\n",
    "\n",
    "    vocab = build_vocab_from_iterator(\n",
    "        map(tokenizer, data_iter),\n",
    "        specials=[\"<unk>\"], #adding special tokens to the vocabulary\n",
    "        min_freq=MIN_WORD_FREQUENCY,\n",
    "    )\n",
    "    vocab.set_default_index(vocab[\"<unk>\"])\n",
    "    return vocab\n",
    "\n",
    "\n",
    "def collate_skipgram(batch, text_pipeline):\n",
    "    \"\"\"\n",
    "    This function prepares data for training the skipgram model.\n",
    "    It generates pairs of center and context words from the batch of text.\n",
    "\n",
    "    batch: A batch of text data\n",
    "    text_pipeline: A pipeline function that processes text into tokens\n",
    "    (batch_input, batch_output) -> (center word, context words)\n",
    "    \"\"\"\n",
    "    batch_input, batch_output = [], []\n",
    "\n",
    "    # Process each text in the batch\n",
    "    for text in batch:\n",
    "        text_tokens_ids = text_pipeline(text)\n",
    "\n",
    "        # Skip texts shorter than the required window size\n",
    "        if len(text_tokens_ids) < SKIPGRAM_N_WORDS * 2 + 1:\n",
    "            continue\n",
    "\n",
    "        # Truncate texts to a maximum sequence length if specified\n",
    "        if MAX_SEQUENCE_LENGTH:\n",
    "            text_tokens_ids = text_tokens_ids[:MAX_SEQUENCE_LENGTH]\n",
    "\n",
    "        # Create training pairs for each word in the text\n",
    "        for idx in range(len(text_tokens_ids) - SKIPGRAM_N_WORDS * 2):\n",
    "            token_id_sequence = text_tokens_ids[idx : (idx + SKIPGRAM_N_WORDS * 2 + 1)]\n",
    "            input_ = token_id_sequence.pop(SKIPGRAM_N_WORDS)\n",
    "            outputs = token_id_sequence\n",
    "\n",
    "            # Add each context word with the center word to the output lists\n",
    "            for output in outputs:\n",
    "                batch_input.append(input_)\n",
    "                batch_output.append(output)\n",
    "\n",
    "    # Convert lists to PyTorch tensors\n",
    "    batch_input = torch.tensor(batch_input, dtype=torch.long)\n",
    "    batch_output = torch.tensor(batch_output, dtype=torch.long)\n",
    "\n",
    "    return batch_input, batch_output\n",
    "\n",
    "\n",
    "def get_dataloader_and_vocab(\n",
    "    model_name, ds_name, ds_type, data_dir, batch_size, shuffle, vocab=None\n",
    "    ):\n",
    "    \"\"\"\n",
    "    Prepares a DataLoader and builds a vocabulary for the dataset.\n",
    "    model_name: Name of the model to be used\n",
    "    ds_name: Name of the dataset\n",
    "    ds_type: Type of the dataset (e.g., train, test)\n",
    "    data_dir: Directory where the dataset is stored\n",
    "    batch_size: Size of each batch\n",
    "    vocab: An existing vocabulary, if available\n",
    "\n",
    "    \"\"\"\n",
    "\n",
    "    data_iter = get_data_iterator(ds_name, ds_type, data_dir)\n",
    "    tokenizer = get_english_tokenizer()\n",
    "    if not vocab:\n",
    "        vocab = build_vocab(data_iter, tokenizer)\n",
    "\n",
    "    text_pipeline = lambda x: vocab(tokenizer(x))\n",
    "\n",
    "    collate_fn = collate_skipgram\n",
    "\n",
    "    # creates a DataLoader for the dataset\n",
    "\n",
    "    \"\"\"\n",
    "    dataloader documentation\n",
    "    https://pytorch.org/docs/stable/data.html#torch.utils.data.DataLoader\n",
    "\n",
    "    \"\"\"\n",
    "    dataloader = DataLoader(\n",
    "        data_iter,\n",
    "        batch_size=batch_size,\n",
    "        shuffle=shuffle,\n",
    "        collate_fn=partial(collate_fn, text_pipeline=text_pipeline),\n",
    "        )\n",
    "\n",
    "    return dataloader, vocab\n"
   ]
  },
  {
   "cell_type": "markdown",
   "metadata": {
    "id": "-8Ap0SHCloMj"
   },
   "source": [
    "### Initialize the SkipGram Model\n",
    "\n",
    " **Complete the `initialization` and `forward` function in the following  SkipGram_Model class**"
   ]
  },
  {
   "cell_type": "code",
   "execution_count": 4,
   "metadata": {
    "id": "2NNvSmAgYydH"
   },
   "outputs": [],
   "source": [
    "class SkipGram_Model(nn.Module):\n",
    "    \"\"\"\n",
    "    Implementation of Skip-Gram model described in paper:\n",
    "    https://arxiv.org/abs/1301.3781\n",
    "    \"\"\"\n",
    "    def __init__(self, vocab_size: int):\n",
    "        super(SkipGram_Model, self).__init__()\n",
    "\n",
    "        \"\"\"define the embedding and the linear layer of the network\"\"\"\n",
    "        # this is the initialization for the layers in the skipgram model\n",
    "\n",
    "        # ADD YOUR CODE HERE\n",
    "        self.embeddings = nn.Embedding(vocab_size, EMBED_DIMENSION)\n",
    "#         self.get_word_embedding = self.embeddings.weight.data.cpu().numpy()\n",
    "        self.linear = nn.Linear(EMBED_DIMENSION, vocab_size)\n",
    "\n",
    "    def forward(self, inputs_):\n",
    "        \"\"\"define forward function\"\"\"\n",
    "        # ADD YOUR CODE HERE\n",
    "        target_embedding = self.embeddings(inputs_)\n",
    "        scores = self.linear(target_embedding)\n",
    "\n",
    "        # return the output of your final layer to find the minimize the loss\n",
    "        \n",
    "        return scores\n",
    "    \n",
    "\n",
    "    def get_word_embedding(self):\n",
    "        \"\"\" return the associated word embeddings for center words \"\"\"\n",
    "\n",
    "        # ADD YOUR CODE HERE\n",
    "\n",
    "        # return the normalized embeddings as a 2D numpy array (in word2vec models,\n",
    "        # the vector associated with the center word is considered\n",
    "        # word embedding)\n",
    "        \n",
    "        embeddings = self.embeddings.weight.data.cpu().numpy()\n",
    "        normalized_embeddings = embeddings / np.linalg.norm(embeddings, axis=1, keepdims=True)\n",
    "        return normalized_embeddings\n",
    "        "
   ]
  },
  {
   "cell_type": "markdown",
   "metadata": {
    "id": "fcqxAiTSlwbw"
   },
   "source": [
    "> **The following is the Trainer class for the skip-gram model. Add your code for the `training` and `validation` loops.**"
   ]
  },
  {
   "cell_type": "code",
   "execution_count": 5,
   "metadata": {
    "id": "_wSYVSMlZFwA"
   },
   "outputs": [],
   "source": [
    "class Trainer:\n",
    "    \"\"\"Main class for model training\"\"\"\n",
    "\n",
    "    # NOTE: you are free to add additional inputs/functions\n",
    "    # to the trainer class to make training better\n",
    "    # make sure to define and add it within the input\n",
    "    # and initialization if you are using any additional inputs\n",
    "    # for usage in the function\n",
    "\n",
    "    def __init__(\n",
    "        self,\n",
    "        model,\n",
    "        epochs,\n",
    "        train_dataloader,\n",
    "        val_dataloader,\n",
    "        criterion,\n",
    "        optimizer,\n",
    "        device,\n",
    "        model_dir,\n",
    "        model_name,\n",
    "    ):\n",
    "        self.model = model\n",
    "        self.epochs = epochs\n",
    "        self.train_dataloader = train_dataloader\n",
    "        self.val_dataloader = val_dataloader\n",
    "        self.criterion = criterion\n",
    "        self.optimizer = optimizer\n",
    "        self.device = device\n",
    "        self.model_dir = model_dir\n",
    "        self.model_name = model_name\n",
    "        self.loss = {\"train\": [], \"val\": []}\n",
    "        self.model.to(self.device)\n",
    "\n",
    "    # ADD YOUR CODE HERE FOR TRAINING & VALIDATION\n",
    "    # This implementation need not include negative sampling.\n",
    "\n",
    "    # NOTE: you can add additional functions to make training better\n",
    "    \n",
    "    def train_epoch(self):\n",
    "        self.model.train()\n",
    "        loss_total = 0\n",
    "        \n",
    "        for inp, label in self.train_dataloader:\n",
    "            inp, label = inp.to(self.device), label.to(self.device)\n",
    "            self.optimizer.zero_grad()\n",
    "            \n",
    "            output = self.model(inp)\n",
    "#             print(output, label)\n",
    "            loss = self.criterion(output, label)\n",
    "            loss.backward()\n",
    "            self.optimizer.step()\n",
    "            \n",
    "            loss_total += loss.item()\n",
    "            \n",
    "            gc.collect()\n",
    "            torch.cuda.empty_cache()\n",
    "            torch.cuda.synchronize()\n",
    "        \n",
    "        return loss_total/len(self.train_dataloader)\n",
    "    \n",
    "    \n",
    "    def val(self):\n",
    "        \n",
    "        self.model.eval()\n",
    "        total_loss = 0.0\n",
    "\n",
    "        with torch.no_grad():\n",
    "            for inputs, targets in self.val_dataloader:\n",
    "                inputs, targets = inputs.to(self.device), targets.to(self.device)\n",
    "                outputs = self.model(inputs)\n",
    "                loss = self.criterion(outputs, targets)\n",
    "                total_loss += loss.item()\n",
    "\n",
    "        return total_loss / len(self.val_dataloader)\n",
    "    \n",
    "    def train(self):\n",
    "        \n",
    "        for epoch in trange(1, self.epochs + 1):\n",
    "            train_loss = self.train_epoch()\n",
    "            val_loss = self.val()\n",
    "\n",
    "            self.loss[\"train\"].append(train_loss)\n",
    "            self.loss[\"val\"].append(val_loss)\n",
    "\n",
    "            print(f\"Epoch {epoch}/{self.epochs} => \"\n",
    "                  f\"Train Loss: {train_loss:.4f}, \"\n",
    "                  f\"Validation Loss: {val_loss:.4f}\")\n",
    "            \n",
    "\n",
    "        self.save_model()\n",
    "\n",
    "\n",
    "    def save_model(self):\n",
    "        \"\"\"\n",
    "        Save final model to directory\n",
    "\n",
    "        \"\"\"\n",
    "        model_path = os.path.join(self.model_dir, \"model.pt\")\n",
    "        torch.save(self.model, model_path)\n",
    "\n",
    "    def save_loss(self):\n",
    "        \"\"\"\n",
    "        Save train/val loss as json file to the directory\n",
    "\n",
    "        \"\"\"\n",
    "        loss_path = os.path.join(self.model_dir, \"loss.json\")\n",
    "        with open(loss_path, \"w\") as fp:\n",
    "            json.dump(self.loss, fp)"
   ]
  },
  {
   "cell_type": "markdown",
   "metadata": {
    "id": "2BgM-DGTl4qy"
   },
   "source": [
    "> **The following code block defines the various parameters and nomenclature for the training and saving of the skip-gram model. Add numerical values for the `specified hyperparameters`.**"
   ]
  },
  {
   "cell_type": "code",
   "execution_count": 6,
   "metadata": {
    "id": "LzoqreghaSgc"
   },
   "outputs": [],
   "source": [
    "# ADD YOUR CODE HERE\n",
    "# CHANGE THE None VALUES TO YOUR DESIRED VALUES\n",
    "\n",
    "model_name = 'skipgram'\n",
    "\n",
    "dataset = 'WikiText2'\n",
    "data_dir = './data'\n",
    "# data_dir = './data/datasets/WikiText2/wikitext-2'\n",
    "train_batch_size = 35\n",
    "val_batch_size = 35\n",
    "shuffle = True\n",
    "\n",
    "# optimizer = optim.Adam()\n",
    "learning_rate = 1e-4\n",
    "epochs = 10\n",
    "\n",
    "# ADD YOUR CODE HERE\n",
    "# change the directory name with your SAPname and SRno\n",
    "\n",
    "model_dir = 'BadrinathSinghal_23302'"
   ]
  },
  {
   "cell_type": "markdown",
   "metadata": {
    "id": "DSE1qsvxmEdP"
   },
   "source": [
    "> **The following code block is used to train and save the model. Add the code wherever required**"
   ]
  },
  {
   "cell_type": "code",
   "execution_count": 7,
   "metadata": {
    "id": "_zMDRVHMZWO6"
   },
   "outputs": [
    {
     "name": "stdout",
     "output_type": "stream",
     "text": [
      "Vocabulary size: 28782\n"
     ]
    },
    {
     "data": {
      "application/vnd.jupyter.widget-view+json": {
       "model_id": "f87668c647064beaaadae69b93322181",
       "version_major": 2,
       "version_minor": 0
      },
      "text/plain": [
       "  0%|          | 0/10 [00:00<?, ?it/s]"
      ]
     },
     "metadata": {},
     "output_type": "display_data"
    },
    {
     "name": "stdout",
     "output_type": "stream",
     "text": [
      "Epoch 1/10 => Train Loss: 8.0526, Validation Loss: 6.9385\n",
      "Epoch 2/10 => Train Loss: 7.0304, Validation Loss: 6.7276\n",
      "Epoch 3/10 => Train Loss: 6.8816, Validation Loss: 6.6636\n",
      "Epoch 4/10 => Train Loss: 6.8167, Validation Loss: 6.6346\n",
      "Epoch 5/10 => Train Loss: 6.7789, Validation Loss: 6.6145\n",
      "Epoch 6/10 => Train Loss: 6.7514, Validation Loss: 6.6067\n",
      "Epoch 7/10 => Train Loss: 6.7315, Validation Loss: 6.5996\n",
      "Epoch 8/10 => Train Loss: 6.7151, Validation Loss: 6.5901\n",
      "Epoch 9/10 => Train Loss: 6.7005, Validation Loss: 6.5857\n",
      "Epoch 10/10 => Train Loss: 6.6879, Validation Loss: 6.5795\n",
      "Training finished.\n",
      "Model artifacts saved to folder: BadrinathSinghal_23302\n"
     ]
    }
   ],
   "source": [
    "os.makedirs(model_dir, exist_ok=True)\n",
    "\n",
    "# if not os.path.exists(model_dir):\n",
    "#     os.makedirs(model_dir)\n",
    "\n",
    "train_dataloader, vocab = get_dataloader_and_vocab(\n",
    "    model_name=model_name,\n",
    "    ds_name=dataset,\n",
    "    ds_type=\"train\",\n",
    "    data_dir=data_dir,\n",
    "    batch_size=train_batch_size,\n",
    "    shuffle=shuffle,\n",
    "    vocab=None,\n",
    ")\n",
    "\n",
    "val_dataloader, _ = get_dataloader_and_vocab(\n",
    "    model_name=model_name,\n",
    "    ds_name=dataset,\n",
    "    ds_type=\"valid\",\n",
    "    data_dir=data_dir,\n",
    "    batch_size=val_batch_size,\n",
    "    shuffle=shuffle,\n",
    "    vocab=vocab,\n",
    ")\n",
    "\n",
    "vocab_size = len(vocab.get_stoi())\n",
    "print(f\"Vocabulary size: {vocab_size}\")\n",
    "\n",
    "\n",
    "model_class = SkipGram_Model\n",
    "model = model_class(vocab_size=vocab_size)\n",
    "\n",
    "# ADD YOUR CODE HERE\n",
    "\n",
    "criterion = nn.CrossEntropyLoss()\n",
    "\n",
    "# ADD YOUR CODE HERE\n",
    "optimizer = optim.Adam(model.parameters())\n",
    "\n",
    "device = torch.device(\"cuda:0\" if torch.cuda.is_available() else \"cpu\")\n",
    "\n",
    "# NOTE: if you are **optionally** using additional options for the trainer\n",
    "# (e.g., a training scheduler), please add them below.\n",
    "\n",
    "\n",
    "trainer = Trainer(\n",
    "    model=model,\n",
    "    epochs=epochs,\n",
    "    train_dataloader=train_dataloader,\n",
    "    val_dataloader=val_dataloader,\n",
    "    criterion=criterion,\n",
    "    optimizer=optimizer,\n",
    "    device=device,\n",
    "    model_dir=model_dir,\n",
    "    model_name=model_name,\n",
    ")\n",
    "\n",
    "trainer.train()\n",
    "print(\"Training finished.\")\n",
    "\n",
    "trainer.save_model()\n",
    "trainer.save_loss()\n",
    "vocab_path = os.path.join(model_dir, \"vocab.pt\")\n",
    "torch.save(vocab, vocab_path)\n",
    "print(\"Model artifacts saved to folder:\", model_dir)"
   ]
  },
  {
   "cell_type": "markdown",
   "metadata": {
    "id": "R1PKIac1mMsH"
   },
   "source": [
    "### Let us analyze the performance of the model\n",
    "\n",
    "You'll be evaluated on the quality of the word representations as judged by the word similarity test, and word analogy tests.\n"
   ]
  },
  {
   "cell_type": "code",
   "execution_count": 8,
   "metadata": {
    "id": "x-K93nQt5CTZ"
   },
   "outputs": [
    {
     "name": "stderr",
     "output_type": "stream",
     "text": [
      "/tmp/ipykernel_14780/2520828887.py:3: DeprecationWarning: \n",
      "Pyarrow will become a required dependency of pandas in the next major release of pandas (pandas 3.0),\n",
      "(to allow more performant data types, such as the Arrow string type, and better interoperability with other libraries)\n",
      "but was not found to be installed on your system.\n",
      "If this would cause problems for you,\n",
      "please provide us feedback at https://github.com/pandas-dev/pandas/issues/54466\n",
      "        \n",
      "  import pandas as pd\n"
     ]
    }
   ],
   "source": [
    "#@title Evaluation\n",
    "import numpy as np\n",
    "import pandas as pd\n",
    "import torch\n",
    "import sys\n",
    "from sklearn.metrics.pairwise import cosine_similarity\n",
    "import seaborn as sns\n",
    "from sklearn.decomposition import PCA\n",
    "import matplotlib.pyplot as plt"
   ]
  },
  {
   "cell_type": "code",
   "execution_count": 9,
   "metadata": {
    "id": "80d1lRiD7ms4"
   },
   "outputs": [],
   "source": [
    "# ADD YOUR CODE HERE\n",
    "# change the directory name with your SAPname and SRno\n",
    "\n",
    "folder = \"BadrinathSinghal_23302\"\n",
    "device = torch.device(\"cuda:0\" if torch.cuda.is_available() else \"cpu\")\n",
    "\n",
    "# load the saved model\n",
    "model = torch.load(f\"{folder}/model.pt\", map_location=device)\n",
    "vocab = torch.load(f\"{folder}/vocab.pt\")"
   ]
  },
  {
   "cell_type": "code",
   "execution_count": 10,
   "metadata": {
    "id": "Wc9AMn5GVUKZ"
   },
   "outputs": [],
   "source": [
    "word_embeddings = model.get_word_embedding()\n",
    "\n",
    "# ADD YOUR CODE HERE\n",
    "# change the directory name with your SAPname and SRno\n",
    "\n",
    "# Save the embeddings to the folder\n",
    "np.save('BadrinathSinghal_23302/word_embeddings.npy', word_embeddings)"
   ]
  },
  {
   "cell_type": "markdown",
   "metadata": {
    "id": "21pPrbet--qJ"
   },
   "source": [
    "Once the embeddings are trained, we can use a few words to evaluate some desirable properties of word representations.\n",
    "\n",
    "For instance, whether similar words are indeed similar in the high-dimensional space?"
   ]
  },
  {
   "cell_type": "code",
   "execution_count": 11,
   "metadata": {
    "id": "E7hq6o3z777b"
   },
   "outputs": [],
   "source": [
    "words = ['king', 'queen', 'river', 'water', 'ocean', 'tree', 'plant', 'happy', 'glad', 'mother', 'daughter']"
   ]
  },
  {
   "cell_type": "markdown",
   "metadata": {
    "id": "f5kAEr9rmYym"
   },
   "source": [
    "> **Write a code to find the similarity of the each word in words with eachother**"
   ]
  },
  {
   "cell_type": "code",
   "execution_count": 12,
   "metadata": {
    "id": "dCXVzRrh8Dvu"
   },
   "outputs": [],
   "source": [
    "from torch.nn.functional import cosine_similarity\n",
    "\n",
    "def get_word_similarity(words):\n",
    "  \"\"\"\n",
    "  This function takes the words as input and outputs the word vectors\n",
    "  corresponding to the words obtained from your word2vec model and the\n",
    "  similarity of every word with each other.\n",
    "  word2vec is the embedding matrix corresponding to the given words and\n",
    "  this has to be returned as a numpy array to apply PCA on it whereas,\n",
    "  w2v_similarity[i][j] should contain the similarity of word i with word j\n",
    "\n",
    "  \"\"\"\n",
    "  # ADD YOUR CODE HERE\n",
    "  \n",
    "#   print(model.get_word_embedding()[vocab(words),:].shape, vocab(words))\n",
    "  word2vec = word_embeddings[vocab(words)] \n",
    "\n",
    "  w2v_similarity = np.dot(word2vec, word2vec.T) / (\n",
    "        np.linalg.norm(word2vec, axis=1)[:, None] * np.linalg.norm(word2vec, axis=1)\n",
    "    )\n",
    "\n",
    "  # you'll have to compute the similarity matrix for the words given above\n",
    "\n",
    "  return word2vec, w2v_similarity\n",
    "\n",
    "\n",
    "word2vec, w2v_similarity = get_word_similarity(words)"
   ]
  },
  {
   "cell_type": "markdown",
   "metadata": {
    "id": "ZrUjGgstmhx8"
   },
   "source": [
    "Let us visualize this similarity matrix. The similarity of each word with other words in words is displayed as a pandas dataframe and as a heatmap"
   ]
  },
  {
   "cell_type": "code",
   "execution_count": 13,
   "metadata": {
    "id": "q8OVhSUZ8LZT"
   },
   "outputs": [
    {
     "data": {
      "text/html": [
       "<div>\n",
       "<style scoped>\n",
       "    .dataframe tbody tr th:only-of-type {\n",
       "        vertical-align: middle;\n",
       "    }\n",
       "\n",
       "    .dataframe tbody tr th {\n",
       "        vertical-align: top;\n",
       "    }\n",
       "\n",
       "    .dataframe thead th {\n",
       "        text-align: right;\n",
       "    }\n",
       "</style>\n",
       "<table border=\"1\" class=\"dataframe\">\n",
       "  <thead>\n",
       "    <tr style=\"text-align: right;\">\n",
       "      <th></th>\n",
       "      <th>king</th>\n",
       "      <th>queen</th>\n",
       "      <th>river</th>\n",
       "      <th>water</th>\n",
       "      <th>ocean</th>\n",
       "      <th>tree</th>\n",
       "      <th>plant</th>\n",
       "      <th>happy</th>\n",
       "      <th>glad</th>\n",
       "      <th>mother</th>\n",
       "      <th>daughter</th>\n",
       "    </tr>\n",
       "  </thead>\n",
       "  <tbody>\n",
       "    <tr>\n",
       "      <th>king</th>\n",
       "      <td>1.000000</td>\n",
       "      <td>0.055190</td>\n",
       "      <td>-0.016677</td>\n",
       "      <td>0.011539</td>\n",
       "      <td>0.177592</td>\n",
       "      <td>0.131557</td>\n",
       "      <td>0.201124</td>\n",
       "      <td>-0.184668</td>\n",
       "      <td>-0.050763</td>\n",
       "      <td>0.199721</td>\n",
       "      <td>0.187864</td>\n",
       "    </tr>\n",
       "    <tr>\n",
       "      <th>queen</th>\n",
       "      <td>0.055190</td>\n",
       "      <td>1.000000</td>\n",
       "      <td>0.153696</td>\n",
       "      <td>0.021350</td>\n",
       "      <td>-0.099088</td>\n",
       "      <td>0.106520</td>\n",
       "      <td>0.113643</td>\n",
       "      <td>-0.122393</td>\n",
       "      <td>-0.043389</td>\n",
       "      <td>0.109030</td>\n",
       "      <td>0.218340</td>\n",
       "    </tr>\n",
       "    <tr>\n",
       "      <th>river</th>\n",
       "      <td>-0.016677</td>\n",
       "      <td>0.153696</td>\n",
       "      <td>1.000000</td>\n",
       "      <td>0.290084</td>\n",
       "      <td>0.134597</td>\n",
       "      <td>0.018552</td>\n",
       "      <td>0.250814</td>\n",
       "      <td>0.181116</td>\n",
       "      <td>-0.140443</td>\n",
       "      <td>0.153900</td>\n",
       "      <td>0.054066</td>\n",
       "    </tr>\n",
       "    <tr>\n",
       "      <th>water</th>\n",
       "      <td>0.011539</td>\n",
       "      <td>0.021350</td>\n",
       "      <td>0.290084</td>\n",
       "      <td>1.000000</td>\n",
       "      <td>0.152833</td>\n",
       "      <td>-0.129933</td>\n",
       "      <td>0.128998</td>\n",
       "      <td>0.012418</td>\n",
       "      <td>0.022839</td>\n",
       "      <td>0.178367</td>\n",
       "      <td>-0.187180</td>\n",
       "    </tr>\n",
       "    <tr>\n",
       "      <th>ocean</th>\n",
       "      <td>0.177592</td>\n",
       "      <td>-0.099088</td>\n",
       "      <td>0.134597</td>\n",
       "      <td>0.152833</td>\n",
       "      <td>1.000000</td>\n",
       "      <td>0.186125</td>\n",
       "      <td>0.035679</td>\n",
       "      <td>0.051000</td>\n",
       "      <td>-0.052857</td>\n",
       "      <td>-0.085143</td>\n",
       "      <td>0.038171</td>\n",
       "    </tr>\n",
       "    <tr>\n",
       "      <th>tree</th>\n",
       "      <td>0.131557</td>\n",
       "      <td>0.106520</td>\n",
       "      <td>0.018552</td>\n",
       "      <td>-0.129933</td>\n",
       "      <td>0.186125</td>\n",
       "      <td>1.000000</td>\n",
       "      <td>0.118529</td>\n",
       "      <td>0.043582</td>\n",
       "      <td>-0.043529</td>\n",
       "      <td>0.318936</td>\n",
       "      <td>0.363151</td>\n",
       "    </tr>\n",
       "    <tr>\n",
       "      <th>plant</th>\n",
       "      <td>0.201124</td>\n",
       "      <td>0.113643</td>\n",
       "      <td>0.250814</td>\n",
       "      <td>0.128998</td>\n",
       "      <td>0.035679</td>\n",
       "      <td>0.118529</td>\n",
       "      <td>1.000000</td>\n",
       "      <td>0.078692</td>\n",
       "      <td>0.139270</td>\n",
       "      <td>0.073896</td>\n",
       "      <td>0.060373</td>\n",
       "    </tr>\n",
       "    <tr>\n",
       "      <th>happy</th>\n",
       "      <td>-0.184668</td>\n",
       "      <td>-0.122393</td>\n",
       "      <td>0.181116</td>\n",
       "      <td>0.012418</td>\n",
       "      <td>0.051000</td>\n",
       "      <td>0.043582</td>\n",
       "      <td>0.078692</td>\n",
       "      <td>1.000000</td>\n",
       "      <td>0.375157</td>\n",
       "      <td>0.107847</td>\n",
       "      <td>-0.107746</td>\n",
       "    </tr>\n",
       "    <tr>\n",
       "      <th>glad</th>\n",
       "      <td>-0.050763</td>\n",
       "      <td>-0.043389</td>\n",
       "      <td>-0.140443</td>\n",
       "      <td>0.022839</td>\n",
       "      <td>-0.052857</td>\n",
       "      <td>-0.043529</td>\n",
       "      <td>0.139270</td>\n",
       "      <td>0.375157</td>\n",
       "      <td>1.000000</td>\n",
       "      <td>0.132172</td>\n",
       "      <td>-0.051569</td>\n",
       "    </tr>\n",
       "    <tr>\n",
       "      <th>mother</th>\n",
       "      <td>0.199721</td>\n",
       "      <td>0.109030</td>\n",
       "      <td>0.153900</td>\n",
       "      <td>0.178367</td>\n",
       "      <td>-0.085143</td>\n",
       "      <td>0.318936</td>\n",
       "      <td>0.073896</td>\n",
       "      <td>0.107847</td>\n",
       "      <td>0.132172</td>\n",
       "      <td>1.000000</td>\n",
       "      <td>0.246990</td>\n",
       "    </tr>\n",
       "    <tr>\n",
       "      <th>daughter</th>\n",
       "      <td>0.187864</td>\n",
       "      <td>0.218340</td>\n",
       "      <td>0.054066</td>\n",
       "      <td>-0.187180</td>\n",
       "      <td>0.038171</td>\n",
       "      <td>0.363151</td>\n",
       "      <td>0.060373</td>\n",
       "      <td>-0.107746</td>\n",
       "      <td>-0.051569</td>\n",
       "      <td>0.246990</td>\n",
       "      <td>1.000000</td>\n",
       "    </tr>\n",
       "  </tbody>\n",
       "</table>\n",
       "</div>"
      ],
      "text/plain": [
       "              king     queen     river     water     ocean      tree  \\\n",
       "king      1.000000  0.055190 -0.016677  0.011539  0.177592  0.131557   \n",
       "queen     0.055190  1.000000  0.153696  0.021350 -0.099088  0.106520   \n",
       "river    -0.016677  0.153696  1.000000  0.290084  0.134597  0.018552   \n",
       "water     0.011539  0.021350  0.290084  1.000000  0.152833 -0.129933   \n",
       "ocean     0.177592 -0.099088  0.134597  0.152833  1.000000  0.186125   \n",
       "tree      0.131557  0.106520  0.018552 -0.129933  0.186125  1.000000   \n",
       "plant     0.201124  0.113643  0.250814  0.128998  0.035679  0.118529   \n",
       "happy    -0.184668 -0.122393  0.181116  0.012418  0.051000  0.043582   \n",
       "glad     -0.050763 -0.043389 -0.140443  0.022839 -0.052857 -0.043529   \n",
       "mother    0.199721  0.109030  0.153900  0.178367 -0.085143  0.318936   \n",
       "daughter  0.187864  0.218340  0.054066 -0.187180  0.038171  0.363151   \n",
       "\n",
       "             plant     happy      glad    mother  daughter  \n",
       "king      0.201124 -0.184668 -0.050763  0.199721  0.187864  \n",
       "queen     0.113643 -0.122393 -0.043389  0.109030  0.218340  \n",
       "river     0.250814  0.181116 -0.140443  0.153900  0.054066  \n",
       "water     0.128998  0.012418  0.022839  0.178367 -0.187180  \n",
       "ocean     0.035679  0.051000 -0.052857 -0.085143  0.038171  \n",
       "tree      0.118529  0.043582 -0.043529  0.318936  0.363151  \n",
       "plant     1.000000  0.078692  0.139270  0.073896  0.060373  \n",
       "happy     0.078692  1.000000  0.375157  0.107847 -0.107746  \n",
       "glad      0.139270  0.375157  1.000000  0.132172 -0.051569  \n",
       "mother    0.073896  0.107847  0.132172  1.000000  0.246990  \n",
       "daughter  0.060373 -0.107746 -0.051569  0.246990  1.000000  "
      ]
     },
     "execution_count": 13,
     "metadata": {},
     "output_type": "execute_result"
    }
   ],
   "source": [
    "pd.DataFrame(w2v_similarity, columns = words, index = words)"
   ]
  },
  {
   "cell_type": "code",
   "execution_count": 14,
   "metadata": {
    "id": "9AWL0kqAmqsK"
   },
   "outputs": [
    {
     "data": {
      "text/plain": [
       "<Axes: >"
      ]
     },
     "execution_count": 14,
     "metadata": {},
     "output_type": "execute_result"
    },
    {
     "data": {
      "image/png": "[encoded data removed]",
      "text/plain": [
       "<Figure size 640x480 with 2 Axes>"
      ]
     },
     "metadata": {},
     "output_type": "display_data"
    }
   ],
   "source": [
    "sns.heatmap(pd.DataFrame(w2v_similarity, columns = words, index = words))"
   ]
  },
  {
   "cell_type": "markdown",
   "metadata": {
    "id": "V12MD_EumuA7"
   },
   "source": [
    "The size of the words embedding are reduced to to 2D and displayed as a scatterplot for analysis"
   ]
  },
  {
   "cell_type": "code",
   "execution_count": 15,
   "metadata": {
    "id": "AF9qSiwNmwzw"
   },
   "outputs": [],
   "source": [
    "# Create a 2-dimensional PCA model of the word vectors using the scikit-learn PCA class\n",
    "# n_components in PCA specifies the no.of dimensions\n",
    "pca = PCA(n_components=2)\n",
    "\n",
    "# Fit and transform the vectors using PCA model\n",
    "reduced_w2v = pca.fit_transform(word2vec)"
   ]
  },
  {
   "cell_type": "code",
   "execution_count": 16,
   "metadata": {
    "id": "kS9QF8AE8MTG"
   },
   "outputs": [
    {
     "data": {
      "image/png": "[encoded data removed]",
      "text/plain": [
       "<Figure size 800x500 with 1 Axes>"
      ]
     },
     "metadata": {},
     "output_type": "display_data"
    }
   ],
   "source": [
    "plt.figure(figsize=(8,5))\n",
    "plt.scatter(reduced_w2v[:,0],reduced_w2v[:,1], s = 12, color = 'red')\n",
    "plt.xlim([-2,2])\n",
    "plt.ylim([-2,2])\n",
    "x, y = reduced_w2v[:,0] , reduced_w2v[:,1]\n",
    "offset = 0.5\n",
    "for i in range(len(x)):\n",
    "    label = words[i]\n",
    "    xi, yi = x[i], y[i]\n",
    "    plt.annotate(label, (xi, yi), xytext=(xi + offset, yi + offset),\n",
    "                 textcoords='offset points', ha='center', va='center')\n",
    "\n",
    "plt.savefig(\"word_similarity.png\")"
   ]
  },
  {
   "cell_type": "markdown",
   "metadata": {
    "id": "p4w3UUE1m4W_"
   },
   "source": [
    "The 10 most similar word to the given word is calculated in the following code blocks"
   ]
  },
  {
   "cell_type": "code",
   "execution_count": 17,
   "metadata": {
    "id": "cvXS4uzd8O7W"
   },
   "outputs": [],
   "source": [
    "def get_top_similar(word: str, topN: int = 10):\n",
    "\n",
    "    \"\"\"\n",
    "    This function calculates the topN words similar to the input word.\n",
    "    If the word is not in vocabulary, then similarity is not calculated.\n",
    "    If the word is in the vocabulary, then the dot product of the embedding\n",
    "    matrix and the word vector is calculated. The topN words are selected.\n",
    "    \"\"\"\n",
    "    word_id = vocab[word]\n",
    "    if word_id == 0:\n",
    "        print(\"Out of vocabulary word\")\n",
    "        return\n",
    "\n",
    "    word_vec = word_embeddings[word_id]\n",
    "    word_vec = np.reshape(word_vec, (len(word_vec), 1))\n",
    "\n",
    "    dists = np.matmul(word_embeddings, word_vec).flatten()\n",
    "    topN_ids = np.argsort(-dists)[1 : topN + 1]\n",
    "\n",
    "    topN_dict = {}\n",
    "    for sim_word_id in topN_ids:\n",
    "        sim_word = vocab.lookup_token(sim_word_id)\n",
    "        topN_dict[sim_word] = dists[sim_word_id]\n",
    "\n",
    "    return topN_dict"
   ]
  },
  {
   "cell_type": "code",
   "execution_count": 18,
   "metadata": {
    "id": "atY4cy0J8Tfi"
   },
   "outputs": [
    {
     "name": "stdout",
     "output_type": "stream",
     "text": [
      "EVALUATION: most similar words to attorney: 0.543\n",
      "EVALUATION: most similar words to kristiansund: 0.541\n",
      "EVALUATION: most similar words to holders: 0.539\n",
      "EVALUATION: most similar words to alden: 0.539\n",
      "EVALUATION: most similar words to shaken: 0.537\n",
      "EVALUATION: most similar words to necrophilia: 0.524\n",
      "EVALUATION: most similar words to sur: 0.507\n",
      "EVALUATION: most similar words to submerged: 0.499\n",
      "EVALUATION: most similar words to reproduced: 0.497\n",
      "EVALUATION: most similar words to latin: 0.493\n"
     ]
    }
   ],
   "source": [
    "for word, sim in get_top_similar(\"india\").items():\n",
    "   print(\"EVALUATION: most similar words to {}: {:.3f}\".format(word, sim))"
   ]
  },
  {
   "cell_type": "markdown",
   "metadata": {
    "id": "Iz-elU-5nAL1"
   },
   "source": [
    "### Analogy Tests\n",
    "\n",
    "Analogy tests include questions of the format a:b::x:?, such tests are used to intrinsically evaluate the quality of word vectors.\n",
    "\n",
    "Here's one example."
   ]
  },
  {
   "cell_type": "code",
   "execution_count": 19,
   "metadata": {
    "id": "-KrTVR2BnC9N"
   },
   "outputs": [
    {
     "name": "stdout",
     "output_type": "stream",
     "text": [
      "king: 1.144\n",
      "woman: 1.094\n",
      "mistress: 0.875\n",
      "leachi: 0.872\n",
      "spector: 0.845\n"
     ]
    }
   ],
   "source": [
    "def get_analogy(word_1, word_2, word_3):\n",
    "\n",
    "  \"\"\"\n",
    "  top 5 most analgous vector calculated correspond to a set similar to\n",
    "  man: woman :: king: ? . This is calculated similar to the above case.\n",
    "\n",
    "  \"\"\"\n",
    "\n",
    "  emb1 = word_embeddings[vocab[word_1]]\n",
    "  emb2 = word_embeddings[vocab[word_2]]\n",
    "  emb3 = word_embeddings[vocab[word_3]]\n",
    "\n",
    "  emb4 = emb1 - emb2 + emb3\n",
    "\n",
    "  # compute dot products between 'emb4' and all word embeddings in the model.\n",
    "  emb4 = np.reshape(emb4, (len(emb4), 1))\n",
    "  dot_product = np.matmul(word_embeddings, emb4).flatten()\n",
    "\n",
    "  top5 = np.argsort(-dot_product)[:5]\n",
    "\n",
    "  return top5, dot_product\n",
    "\n",
    "top5_analogy, dot_product = get_analogy('king', 'man', 'woman')\n",
    "\n",
    "for word_id in top5_analogy:\n",
    "    print(\"{}: {:.3f}\".format(vocab.lookup_token(word_id), dot_product[word_id]))"
   ]
  },
  {
   "cell_type": "markdown",
   "metadata": {
    "id": "VKTVUVPEnGVN"
   },
   "source": [
    "The model performance will be evaluated based on an analogy output for the top 5 words. The following code will used to evaluate the performance of the model on the analogies dataset. We will measure how often the correct answer is a part of the top 5 options."
   ]
  },
  {
   "cell_type": "code",
   "execution_count": 65,
   "metadata": {
    "colab": {
     "base_uri": "https://localhost:8080/"
    },
    "id": "f2hbpb_h5KgN",
    "outputId": "51993f16-153e-48e9-b218-6c399b32db41"
   },
   "outputs": [
    {
     "name": "stdout",
     "output_type": "stream",
     "text": [
      "--2024-02-05 16:51:41--  https://drive.google.com/uc?export=download&id=1jHx25dECegjtRKBB587nEfHiJesrH0g2\n",
      "Resolving drive.google.com (drive.google.com)... 142.250.77.174, 2404:6800:4007:818::200e\n",
      "Connecting to drive.google.com (drive.google.com)|142.250.77.174|:443... connected.\n",
      "HTTP request sent, awaiting response... 303 See Other\n",
      "Location: https://drive.usercontent.google.com/download?id=1jHx25dECegjtRKBB587nEfHiJesrH0g2&export=download [following]\n",
      "--2024-02-05 16:51:42--  https://drive.usercontent.google.com/download?id=1jHx25dECegjtRKBB587nEfHiJesrH0g2&export=download\n",
      "Resolving drive.usercontent.google.com (drive.usercontent.google.com)... 172.253.63.132, 2404:6800:4007:819::2001\n",
      "Connecting to drive.usercontent.google.com (drive.usercontent.google.com)|172.253.63.132|:443... connected.\n",
      "HTTP request sent, awaiting response... 200 OK\n",
      "Length: 286075 (279K) [application/octet-stream]\n",
      "Saving to: ‘analogies.txt’\n",
      "\n",
      "analogies.txt       100%[===================>] 279.37K   255KB/s    in 1.1s    \n",
      "\n",
      "2024-02-05 16:51:44 (255 KB/s) - ‘analogies.txt’ saved [286075/286075]\n",
      "\n"
     ]
    }
   ],
   "source": [
    "# Downloading the file containing a few analogies.\n",
    "# We will change the contents of this file while testing.\n",
    "\n",
    "!wget -O analogies.txt \"https://drive.google.com/uc?export=download&id=1jHx25dECegjtRKBB587nEfHiJesrH0g2\""
   ]
  },
  {
   "cell_type": "code",
   "execution_count": 20,
   "metadata": {
    "id": "obbMdoMe1Tw7"
   },
   "outputs": [],
   "source": [
    "import random\n",
    "random.seed(42)\n",
    "\n",
    "def load_and_sample_analogies(file_path, sample_size=5000):\n",
    "    with open(file_path, 'r') as file:\n",
    "        analogies = []\n",
    "        for line in file:\n",
    "            # Split the line into words and ensure it has exactly 4 elements\n",
    "            parts = line.strip().split()\n",
    "            if len(parts) == 4:\n",
    "                analogies.append(parts)\n",
    "\n",
    "        # Sample analogies\n",
    "        sampled_analogies = random.sample(analogies, min(sample_size, len(analogies)))\n",
    "        return sampled_analogies\n",
    "\n",
    "# Path to your text file\n",
    "# NOTE: analogies used for grading could be slightly different\n",
    "file_path = './analogies.txt'\n",
    "\n",
    "# Load and sample analogies\n",
    "sampled_analogy_dataset = load_and_sample_analogies(file_path)"
   ]
  },
  {
   "cell_type": "code",
   "execution_count": 21,
   "metadata": {
    "id": "TuLvO2cV1W2j"
   },
   "outputs": [
    {
     "name": "stdout",
     "output_type": "stream",
     "text": [
      "EVALUATION: Precision at 5 for the analogy test is 0.0005707762557077625\n"
     ]
    }
   ],
   "source": [
    "def get_word_id(word, vocab):\n",
    "    \"\"\"check for out of vocabulary items\"\"\"\n",
    "    return vocab[word] if word in vocab else 0\n",
    "\n",
    "def analogy_score(analogy_dataset):\n",
    "    \"\"\"\n",
    "    The top5 analogous words calculated for each set of words for your\n",
    "    implementation of word2vec and compared with an existing dataset to\n",
    "    calculate if the expected word is in the first 5 predictions.\n",
    "    \"\"\"\n",
    "\n",
    "    correct = 0\n",
    "    total = 0\n",
    "\n",
    "    for a, b, c, d in analogy_dataset:\n",
    "        # Convert words to lowercase\n",
    "        a, b, c, d = a.lower(), b.lower(), c.lower(), d.lower()\n",
    "\n",
    "        # Check if any word is out of vocabulary\n",
    "        if 0 in [get_word_id(word, vocab) for word in [a, b, c, d]]:\n",
    "            continue\n",
    "\n",
    "        #finding the first five words that are analogous to the given set\n",
    "        top5_analogy, dot_product = get_analogy(a, b, c)\n",
    "\n",
    "        predicted_words = []\n",
    "\n",
    "        for word_id in top5_analogy:\n",
    "            word = vocab.lookup_token(word_id)\n",
    "            predicted_words.append(word)\n",
    "\n",
    "        if d in predicted_words:\n",
    "            correct += 1\n",
    "\n",
    "        total += 1\n",
    "\n",
    "    precision_at_5 = correct / total if total > 0 else 0\n",
    "    return precision_at_5\n",
    "\n",
    "precision_at_5 = analogy_score(sampled_analogy_dataset)\n",
    "print(\"EVALUATION: Precision at 5 for the analogy test is\", precision_at_5)"
   ]
  },
  {
   "cell_type": "markdown",
   "metadata": {
    "id": "VwjiemeOnKvj"
   },
   "source": [
    "#### Google's word2vec for comparison\n",
    "\n",
    "In the following code blocks, the pretained word2vec developed by Google is used to analyze the quality of the embedding. The word2vec model can be downloaded from [here](https://drive.google.com/file/d/0B7XkCwpI5KDYNlNUTTlSS21pQmM/edit?usp=sharing)."
   ]
  },
  {
   "cell_type": "code",
   "execution_count": 68,
   "metadata": {
    "colab": {
     "base_uri": "https://localhost:8080/"
    },
    "id": "2KhiakvJ3wwe",
    "outputId": "b833be2d-b1b8-4417-c575-454b40191526"
   },
   "outputs": [
    {
     "name": "stdout",
     "output_type": "stream",
     "text": [
      "--2024-02-05 16:52:55--  https://drive.google.com/uc?export=download&id=12Oicgl5scdJLR7t8jbzKpW6o8QkYOylg\n",
      "Resolving drive.google.com (drive.google.com)... 142.251.42.46, 2404:6800:4007:818::200e\n",
      "Connecting to drive.google.com (drive.google.com)|142.251.42.46|:443... connected.\n",
      "HTTP request sent, awaiting response... 303 See Other\n",
      "Location: https://drive.usercontent.google.com/download?id=12Oicgl5scdJLR7t8jbzKpW6o8QkYOylg&export=download [following]\n",
      "--2024-02-05 16:52:56--  https://drive.usercontent.google.com/download?id=12Oicgl5scdJLR7t8jbzKpW6o8QkYOylg&export=download\n",
      "Resolving drive.usercontent.google.com (drive.usercontent.google.com)... 172.253.63.132, 2404:6800:4007:819::2001\n",
      "Connecting to drive.usercontent.google.com (drive.usercontent.google.com)|172.253.63.132|:443... connected.\n",
      "HTTP request sent, awaiting response... 200 OK\n",
      "Length: 2446 (2.4K) [text/html]\n",
      "Saving to: ‘GoogleNews-vectors-negative300.bin’\n",
      "\n",
      "GoogleNews-vectors- 100%[===================>]   2.39K  --.-KB/s    in 0s      \n",
      "\n",
      "2024-02-05 16:52:57 (37.9 MB/s) - ‘GoogleNews-vectors-negative300.bin’ saved [2446/2446]\n",
      "\n"
     ]
    }
   ],
   "source": [
    "!wget -O GoogleNews-vectors-negative300.bin \"https://drive.google.com/uc?export=download&id=12Oicgl5scdJLR7t8jbzKpW6o8QkYOylg\""
   ]
  },
  {
   "cell_type": "code",
   "execution_count": 71,
   "metadata": {
    "colab": {
     "base_uri": "https://localhost:8080/",
     "height": 67,
     "referenced_widgets": [
      "c8bca5cf80de4948ad86ed9b08469b75",
      "3d0983ae13a34bd9a1635309867cb9cd",
      "c8fbb3415ad941d0b138bc5743f77ac3",
      "b2eadb5f487e45f983771b9c4601ee78",
      "89b7ea42b66e4ea5952f13cea491b9bf",
      "c3053e733101432985d8a9e480d2a29b",
      "de9d707864cd47c28ce47383890c023b",
      "499b50c69b2a43e18aacf4214ecd5b7c",
      "27d2150a6c6a4291bcfee282f491df88",
      "b81d3faa449543a183922d2eafefe47e",
      "93633618c22a48b88dda45059886daf4"
     ]
    },
    "id": "KNMjvv4K2xd0",
    "outputId": "3b03f980-b74e-4a11-cd70-7d62f60007e6"
   },
   "outputs": [
    {
     "data": {
      "application/vnd.jupyter.widget-view+json": {
       "model_id": "6a90c17e0fce47ffa9e2a40642c43859",
       "version_major": 2,
       "version_minor": 0
      },
      "text/plain": [
       "  0%|          | 0.00/3.39G [00:00<?, ?B/s]"
      ]
     },
     "metadata": {},
     "output_type": "display_data"
    },
    {
     "name": "stdout",
     "output_type": "stream",
     "text": [
      "Downloaded to ./content/GoogleNews-vectors-negative300.bin\n"
     ]
    }
   ],
   "source": [
    "import bs4\n",
    "import requests\n",
    "import tqdm.auto as tqdm\n",
    "\n",
    "def download_from_drive(drive_link, target_path):\n",
    "    response = requests.get(drive_link, stream=True)\n",
    "    response.raise_for_status()\n",
    "    if 'html' in response.headers['Content-Type']:\n",
    "        response = requests.get(drive_link)\n",
    "        response.raise_for_status()\n",
    "        page = bs4.BeautifulSoup(response.text, features=\"lxml\")\n",
    "        if form := page.find('form', id='download-form'):\n",
    "            id   = form.select_one(\"input[name='id']\")['value']\n",
    "            uuid = form.select_one(\"input[name='uuid']\")['value']\n",
    "            data = { 'confirm': 't', 'export': 'download', 'id': id, 'uuid': uuid }\n",
    "            response = requests.get(page.find('form')['action'], params=data, stream=True)\n",
    "            response.raise_for_status()\n",
    "    with open(target_path, 'wb+') as file:\n",
    "        with tqdm.tqdm(\n",
    "            total=int(response.headers['Content-Length']),\n",
    "            unit='B', unit_scale=True, unit_divisor=1024\n",
    "        ) as pbar:\n",
    "            for chunk in response.iter_content(chunk_size=4096):\n",
    "                file.write(chunk)\n",
    "                pbar.update(len(chunk))\n",
    "    print(\"Downloaded to\", target_path)\n",
    "\n",
    "drive_link = \"https://drive.google.com/uc?export=download&id=12Oicgl5scdJLR7t8jbzKpW6o8QkYOylg\"\n",
    "target_path = \"./content/GoogleNews-vectors-negative300.bin\"\n",
    "\n",
    "download_from_drive(drive_link, target_path)"
   ]
  },
  {
   "cell_type": "code",
   "execution_count": 74,
   "metadata": {
    "id": "mzoahZOUnQIO"
   },
   "outputs": [],
   "source": [
    "import gensim\n",
    "\n",
    "# Load Google news 300 vectors file\n",
    "model = gensim.models.KeyedVectors.load_word2vec_format('./content/GoogleNews-vectors-negative300.bin', binary=True, limit=500000)"
   ]
  },
  {
   "cell_type": "code",
   "execution_count": 75,
   "metadata": {
    "id": "ep71XY238WpV"
   },
   "outputs": [],
   "source": [
    "# List of words to plot the embeddings\n",
    "words = ['king', 'queen', 'river', 'water', 'ocean', 'tree', 'plant', 'happy', 'glad', 'mother', 'daughter']"
   ]
  },
  {
   "cell_type": "markdown",
   "metadata": {
    "id": "kLUtqxPrnWV9"
   },
   "source": [
    "> **Write a code to find the similarity of the each word in words with eachother using original word2vec**"
   ]
  },
  {
   "cell_type": "code",
   "execution_count": 91,
   "metadata": {
    "id": "4QLcfJvvnYl9"
   },
   "outputs": [],
   "source": [
    "def get_word_similarity(words):\n",
    "  \"\"\"\n",
    "  This function takes the words as input and outputs the word vectors\n",
    "  corresponding to the words using Google's word2vec and the similarity of\n",
    "  every word with eachother. word2vec is the embedding matrix for the words\n",
    "  given above w2v_similarity[i][j] should contain the similarity of word i with j\n",
    "\n",
    "  \"\"\"\n",
    "  # ADD YOUR CODE HERE\n",
    "  word2_vec = np.array([model[word] for word in words])\n",
    "  w2v_similarity = np.dot(word2_vec, word2_vec.T) / (\n",
    "        np.linalg.norm(word2_vec, axis=1)[:, None] * np.linalg.norm(word2_vec, axis=1)\n",
    "    )\n",
    "\n",
    "  # you'll have to compute the similarity matrix for the words given above\n",
    "\n",
    "  return word2vec, w2v_similarity\n",
    "\n",
    "word2vec, w2v_similarity = get_word_similarity(words)"
   ]
  },
  {
   "cell_type": "markdown",
   "metadata": {
    "id": "GLQn4B_snbfg"
   },
   "source": [
    "The similarity of each word with other words in words is displayed as a pandas dataframe and as a heatmap"
   ]
  },
  {
   "cell_type": "code",
   "execution_count": 92,
   "metadata": {
    "id": "z3-NqzVunhg1"
   },
   "outputs": [
    {
     "data": {
      "text/html": [
       "<div>\n",
       "<style scoped>\n",
       "    .dataframe tbody tr th:only-of-type {\n",
       "        vertical-align: middle;\n",
       "    }\n",
       "\n",
       "    .dataframe tbody tr th {\n",
       "        vertical-align: top;\n",
       "    }\n",
       "\n",
       "    .dataframe thead th {\n",
       "        text-align: right;\n",
       "    }\n",
       "</style>\n",
       "<table border=\"1\" class=\"dataframe\">\n",
       "  <thead>\n",
       "    <tr style=\"text-align: right;\">\n",
       "      <th></th>\n",
       "      <th>king</th>\n",
       "      <th>queen</th>\n",
       "      <th>river</th>\n",
       "      <th>water</th>\n",
       "      <th>ocean</th>\n",
       "      <th>tree</th>\n",
       "      <th>plant</th>\n",
       "      <th>happy</th>\n",
       "      <th>glad</th>\n",
       "      <th>mother</th>\n",
       "      <th>daughter</th>\n",
       "    </tr>\n",
       "  </thead>\n",
       "  <tbody>\n",
       "    <tr>\n",
       "      <th>king</th>\n",
       "      <td>1.000000</td>\n",
       "      <td>0.651096</td>\n",
       "      <td>0.086155</td>\n",
       "      <td>0.035606</td>\n",
       "      <td>0.065263</td>\n",
       "      <td>0.109141</td>\n",
       "      <td>0.057788</td>\n",
       "      <td>0.113239</td>\n",
       "      <td>0.063524</td>\n",
       "      <td>0.160052</td>\n",
       "      <td>0.148813</td>\n",
       "    </tr>\n",
       "    <tr>\n",
       "      <th>queen</th>\n",
       "      <td>0.651096</td>\n",
       "      <td>0.999999</td>\n",
       "      <td>0.103566</td>\n",
       "      <td>0.018264</td>\n",
       "      <td>0.099157</td>\n",
       "      <td>0.112222</td>\n",
       "      <td>0.088803</td>\n",
       "      <td>0.121214</td>\n",
       "      <td>0.082538</td>\n",
       "      <td>0.288445</td>\n",
       "      <td>0.305139</td>\n",
       "    </tr>\n",
       "    <tr>\n",
       "      <th>river</th>\n",
       "      <td>0.086155</td>\n",
       "      <td>0.103566</td>\n",
       "      <td>1.000000</td>\n",
       "      <td>0.576898</td>\n",
       "      <td>0.477181</td>\n",
       "      <td>0.230746</td>\n",
       "      <td>0.201330</td>\n",
       "      <td>0.073289</td>\n",
       "      <td>0.071341</td>\n",
       "      <td>0.131062</td>\n",
       "      <td>0.116944</td>\n",
       "    </tr>\n",
       "    <tr>\n",
       "      <th>water</th>\n",
       "      <td>0.035606</td>\n",
       "      <td>0.018264</td>\n",
       "      <td>0.576898</td>\n",
       "      <td>0.999999</td>\n",
       "      <td>0.471691</td>\n",
       "      <td>0.196022</td>\n",
       "      <td>0.271738</td>\n",
       "      <td>0.067675</td>\n",
       "      <td>0.085623</td>\n",
       "      <td>0.110723</td>\n",
       "      <td>0.079457</td>\n",
       "    </tr>\n",
       "    <tr>\n",
       "      <th>ocean</th>\n",
       "      <td>0.065263</td>\n",
       "      <td>0.099157</td>\n",
       "      <td>0.477181</td>\n",
       "      <td>0.471691</td>\n",
       "      <td>1.000000</td>\n",
       "      <td>0.141859</td>\n",
       "      <td>0.067005</td>\n",
       "      <td>-0.000511</td>\n",
       "      <td>0.014122</td>\n",
       "      <td>0.105623</td>\n",
       "      <td>0.081207</td>\n",
       "    </tr>\n",
       "    <tr>\n",
       "      <th>tree</th>\n",
       "      <td>0.109141</td>\n",
       "      <td>0.112222</td>\n",
       "      <td>0.230746</td>\n",
       "      <td>0.196022</td>\n",
       "      <td>0.141859</td>\n",
       "      <td>1.000000</td>\n",
       "      <td>0.265187</td>\n",
       "      <td>0.076933</td>\n",
       "      <td>0.105760</td>\n",
       "      <td>0.188985</td>\n",
       "      <td>0.173518</td>\n",
       "    </tr>\n",
       "    <tr>\n",
       "      <th>plant</th>\n",
       "      <td>0.057788</td>\n",
       "      <td>0.088803</td>\n",
       "      <td>0.201330</td>\n",
       "      <td>0.271738</td>\n",
       "      <td>0.067005</td>\n",
       "      <td>0.265187</td>\n",
       "      <td>1.000000</td>\n",
       "      <td>-0.010519</td>\n",
       "      <td>-0.000679</td>\n",
       "      <td>0.148805</td>\n",
       "      <td>0.092466</td>\n",
       "    </tr>\n",
       "    <tr>\n",
       "      <th>happy</th>\n",
       "      <td>0.113239</td>\n",
       "      <td>0.121214</td>\n",
       "      <td>0.073289</td>\n",
       "      <td>0.067675</td>\n",
       "      <td>-0.000511</td>\n",
       "      <td>0.076933</td>\n",
       "      <td>-0.010519</td>\n",
       "      <td>1.000000</td>\n",
       "      <td>0.740889</td>\n",
       "      <td>0.119672</td>\n",
       "      <td>0.152536</td>\n",
       "    </tr>\n",
       "    <tr>\n",
       "      <th>glad</th>\n",
       "      <td>0.063524</td>\n",
       "      <td>0.082538</td>\n",
       "      <td>0.071341</td>\n",
       "      <td>0.085623</td>\n",
       "      <td>0.014122</td>\n",
       "      <td>0.105760</td>\n",
       "      <td>-0.000679</td>\n",
       "      <td>0.740889</td>\n",
       "      <td>0.999999</td>\n",
       "      <td>0.125566</td>\n",
       "      <td>0.181102</td>\n",
       "    </tr>\n",
       "    <tr>\n",
       "      <th>mother</th>\n",
       "      <td>0.160052</td>\n",
       "      <td>0.288445</td>\n",
       "      <td>0.131062</td>\n",
       "      <td>0.110723</td>\n",
       "      <td>0.105623</td>\n",
       "      <td>0.188985</td>\n",
       "      <td>0.148805</td>\n",
       "      <td>0.119672</td>\n",
       "      <td>0.125566</td>\n",
       "      <td>0.999999</td>\n",
       "      <td>0.870623</td>\n",
       "    </tr>\n",
       "    <tr>\n",
       "      <th>daughter</th>\n",
       "      <td>0.148813</td>\n",
       "      <td>0.305139</td>\n",
       "      <td>0.116944</td>\n",
       "      <td>0.079457</td>\n",
       "      <td>0.081207</td>\n",
       "      <td>0.173518</td>\n",
       "      <td>0.092466</td>\n",
       "      <td>0.152536</td>\n",
       "      <td>0.181102</td>\n",
       "      <td>0.870623</td>\n",
       "      <td>1.000000</td>\n",
       "    </tr>\n",
       "  </tbody>\n",
       "</table>\n",
       "</div>"
      ],
      "text/plain": [
       "              king     queen     river     water     ocean      tree  \\\n",
       "king      1.000000  0.651096  0.086155  0.035606  0.065263  0.109141   \n",
       "queen     0.651096  0.999999  0.103566  0.018264  0.099157  0.112222   \n",
       "river     0.086155  0.103566  1.000000  0.576898  0.477181  0.230746   \n",
       "water     0.035606  0.018264  0.576898  0.999999  0.471691  0.196022   \n",
       "ocean     0.065263  0.099157  0.477181  0.471691  1.000000  0.141859   \n",
       "tree      0.109141  0.112222  0.230746  0.196022  0.141859  1.000000   \n",
       "plant     0.057788  0.088803  0.201330  0.271738  0.067005  0.265187   \n",
       "happy     0.113239  0.121214  0.073289  0.067675 -0.000511  0.076933   \n",
       "glad      0.063524  0.082538  0.071341  0.085623  0.014122  0.105760   \n",
       "mother    0.160052  0.288445  0.131062  0.110723  0.105623  0.188985   \n",
       "daughter  0.148813  0.305139  0.116944  0.079457  0.081207  0.173518   \n",
       "\n",
       "             plant     happy      glad    mother  daughter  \n",
       "king      0.057788  0.113239  0.063524  0.160052  0.148813  \n",
       "queen     0.088803  0.121214  0.082538  0.288445  0.305139  \n",
       "river     0.201330  0.073289  0.071341  0.131062  0.116944  \n",
       "water     0.271738  0.067675  0.085623  0.110723  0.079457  \n",
       "ocean     0.067005 -0.000511  0.014122  0.105623  0.081207  \n",
       "tree      0.265187  0.076933  0.105760  0.188985  0.173518  \n",
       "plant     1.000000 -0.010519 -0.000679  0.148805  0.092466  \n",
       "happy    -0.010519  1.000000  0.740889  0.119672  0.152536  \n",
       "glad     -0.000679  0.740889  0.999999  0.125566  0.181102  \n",
       "mother    0.148805  0.119672  0.125566  0.999999  0.870623  \n",
       "daughter  0.092466  0.152536  0.181102  0.870623  1.000000  "
      ]
     },
     "execution_count": 92,
     "metadata": {},
     "output_type": "execute_result"
    }
   ],
   "source": [
    "pd.DataFrame(w2v_similarity, columns = words, index = words)"
   ]
  },
  {
   "cell_type": "code",
   "execution_count": 93,
   "metadata": {
    "id": "koErrEInnjcd"
   },
   "outputs": [
    {
     "data": {
      "text/plain": [
       "<Axes: >"
      ]
     },
     "execution_count": 93,
     "metadata": {},
     "output_type": "execute_result"
    },
    {
     "data": {
      "image/png": "[encoded data removed]",
      "text/plain": [
       "<Figure size 640x480 with 2 Axes>"
      ]
     },
     "metadata": {},
     "output_type": "display_data"
    }
   ],
   "source": [
    "sns.heatmap(pd.DataFrame(w2v_similarity, columns = words, index = words))"
   ]
  },
  {
   "cell_type": "markdown",
   "metadata": {
    "id": "ptKTusGJnpLy"
   },
   "source": [
    "The size of the words embedding are reduced to to 2D and displayed as a scatterplot for analysis"
   ]
  },
  {
   "cell_type": "code",
   "execution_count": 94,
   "metadata": {
    "id": "ADEMWok8nrX0"
   },
   "outputs": [],
   "source": [
    "#PCA on word2vec embedding\n",
    "pca = PCA(n_components=2)\n",
    "\n",
    "reduced_w2v = pca.fit_transform(word2vec)"
   ]
  },
  {
   "cell_type": "code",
   "execution_count": 95,
   "metadata": {
    "id": "la2osFTxntIc",
    "scrolled": false
   },
   "outputs": [
    {
     "data": {
      "image/png": "[encoded data removed]",
      "text/plain": [
       "<Figure size 800x500 with 1 Axes>"
      ]
     },
     "metadata": {},
     "output_type": "display_data"
    }
   ],
   "source": [
    "#plotting reduced order embeddings in a 2-D space\n",
    "\n",
    "plt.figure(figsize=(8,5))\n",
    "plt.scatter(reduced_w2v[:,0],reduced_w2v[:,1], s = 12, color = 'red')\n",
    "plt.xlim([-2.5,2.5])\n",
    "plt.ylim([-2.5,2.5])\n",
    "x, y = reduced_w2v[:,0] , reduced_w2v[:,1]\n",
    "for i in range(len(x)):\n",
    "    plt.annotate(words[i],xy=(x[i], y[i]),xytext=(x[i]+0.05,y[i]+0.05))"
   ]
  },
  {
   "cell_type": "code",
   "execution_count": 96,
   "metadata": {
    "id": "Whg_kv2QnvXW"
   },
   "outputs": [
    {
     "data": {
      "text/plain": [
       "[('indian', 0.6967039704322815),\n",
       " ('usa', 0.6836211085319519),\n",
       " ('pakistan', 0.681516706943512),\n",
       " ('chennai', 0.6675503253936768),\n",
       " ('america', 0.6589399576187134),\n",
       " ('sri_lanka', 0.64982008934021),\n",
       " ('canada', 0.6490967869758606),\n",
       " ('australia', 0.6368584036827087),\n",
       " ('mexico', 0.6239137649536133),\n",
       " ('uk', 0.6221641898155212)]"
      ]
     },
     "execution_count": 96,
     "metadata": {},
     "output_type": "execute_result"
    }
   ],
   "source": [
    "model.most_similar('india')"
   ]
  },
  {
   "cell_type": "markdown",
   "metadata": {
    "id": "fIx8JEMynzK5"
   },
   "source": [
    "Analogy test"
   ]
  },
  {
   "cell_type": "code",
   "execution_count": 97,
   "metadata": {
    "id": "N41c0AJKnzou"
   },
   "outputs": [],
   "source": [
    "def analogy(x1, x2, y1): #defining analogy function\n",
    "    result = model.most_similar(positive=[y1, x2], negative=[x1], topn = 5)\n",
    "    return result"
   ]
  },
  {
   "cell_type": "code",
   "execution_count": 98,
   "metadata": {
    "id": "sbEfS_7An3RF"
   },
   "outputs": [
    {
     "data": {
      "text/plain": [
       "[('queen', 0.7118193507194519),\n",
       " ('monarch', 0.6189674139022827),\n",
       " ('princess', 0.5902431011199951),\n",
       " ('crown_prince', 0.5499460697174072),\n",
       " ('prince', 0.5377321839332581)]"
      ]
     },
     "execution_count": 98,
     "metadata": {},
     "output_type": "execute_result"
    }
   ],
   "source": [
    "analogy('man', 'king', 'woman')"
   ]
  },
  {
   "cell_type": "code",
   "execution_count": 99,
   "metadata": {
    "id": "wbqo3EhNy952"
   },
   "outputs": [
    {
     "name": "stdout",
     "output_type": "stream",
     "text": [
      "EVALUATION: Precision at 5 for the analogy test with Google skip-gram model is 0.8748\n"
     ]
    }
   ],
   "source": [
    "def analogy_score(analogy_dataset):\n",
    "\n",
    "    \"\"\"\n",
    "    The top5 analogous words calculated for each set of words for Google's\n",
    "    word2vec and compared with an existing dataset to calculate if the word\n",
    "    is in the first 5 predictions.\n",
    "\n",
    "    \"\"\"\n",
    "    correct = 0\n",
    "    total = 0\n",
    "\n",
    "    for a, b, c, d in analogy_dataset:\n",
    "        # Convert words to lowercase\n",
    "        a, b, c, d = a.lower(), b.lower(), c.lower(), d.lower()\n",
    "\n",
    "        words_scores = analogy(a,b,c)\n",
    "\n",
    "        predicted_words = [item[0] for item in words_scores]\n",
    "\n",
    "        if d in predicted_words:\n",
    "            correct += 1\n",
    "\n",
    "        total += 1\n",
    "\n",
    "    precision_at_5 = correct / total if total > 0 else 0\n",
    "    return precision_at_5\n",
    "\n",
    "precision_at_5_Google = analogy_score(sampled_analogy_dataset)\n",
    "print(\"EVALUATION: Precision at 5 for the analogy test with Google skip-gram model is\", precision_at_5_Google)"
   ]
  },
  {
   "cell_type": "markdown",
   "metadata": {
    "id": "acp_DOcZn5j2"
   },
   "source": [
    "### Submission Instructions\n",
    "\n",
    "Mentioned at the top of the notebook."
   ]
  }
 ],
 "metadata": {
  "colab": {
   "provenance": []
  },
  "kernelspec": {
   "display_name": "Python (badrinath_inv-graph)",
   "language": "python",
   "name": "badrinath_inv-graph"
  },
  "language_info": {
   "codemirror_mode": {
    "name": "ipython",
    "version": 3
   },
   "file_extension": ".py",
   "mimetype": "text/x-python",
   "name": "python",
   "nbconvert_exporter": "python",
   "pygments_lexer": "ipython3",
   "version": "3.9.18"
  },
  "widgets": {
   "application/vnd.jupyter.widget-state+json": {
    "27d2150a6c6a4291bcfee282f491df88": {
     "model_module": "@jupyter-widgets/controls",
     "model_module_version": "1.5.0",
     "model_name": "ProgressStyleModel",
     "state": {
      "_model_module": "@jupyter-widgets/controls",
      "_model_module_version": "1.5.0",
      "_model_name": "ProgressStyleModel",
      "_view_count": null,
      "_view_module": "@jupyter-widgets/base",
      "_view_module_version": "1.2.0",
      "_view_name": "StyleView",
      "bar_color": null,
      "description_width": ""
     }
    },
    "3d0983ae13a34bd9a1635309867cb9cd": {
     "model_module": "@jupyter-widgets/controls",
     "model_module_version": "1.5.0",
     "model_name": "HTMLModel",
     "state": {
      "_dom_classes": [],
      "_model_module": "@jupyter-widgets/controls",
      "_model_module_version": "1.5.0",
      "_model_name": "HTMLModel",
      "_view_count": null,
      "_view_module": "@jupyter-widgets/controls",
      "_view_module_version": "1.5.0",
      "_view_name": "HTMLView",
      "description": "",
      "description_tooltip": null,
      "layout": "IPY_MODEL_c3053e733101432985d8a9e480d2a29b",
      "placeholder": "​",
      "style": "IPY_MODEL_de9d707864cd47c28ce47383890c023b",
      "value": "100%"
     }
    },
    "499b50c69b2a43e18aacf4214ecd5b7c": {
     "model_module": "@jupyter-widgets/base",
     "model_module_version": "1.2.0",
     "model_name": "LayoutModel",
     "state": {
      "_model_module": "@jupyter-widgets/base",
      "_model_module_version": "1.2.0",
      "_model_name": "LayoutModel",
      "_view_count": null,
      "_view_module": "@jupyter-widgets/base",
      "_view_module_version": "1.2.0",
      "_view_name": "LayoutView",
      "align_content": null,
      "align_items": null,
      "align_self": null,
      "border": null,
      "bottom": null,
      "display": null,
      "flex": null,
      "flex_flow": null,
      "grid_area": null,
      "grid_auto_columns": null,
      "grid_auto_flow": null,
      "grid_auto_rows": null,
      "grid_column": null,
      "grid_gap": null,
      "grid_row": null,
      "grid_template_areas": null,
      "grid_template_columns": null,
      "grid_template_rows": null,
      "height": null,
      "justify_content": null,
      "justify_items": null,
      "left": null,
      "margin": null,
      "max_height": null,
      "max_width": null,
      "min_height": null,
      "min_width": null,
      "object_fit": null,
      "object_position": null,
      "order": null,
      "overflow": null,
      "overflow_x": null,
      "overflow_y": null,
      "padding": null,
      "right": null,
      "top": null,
      "visibility": null,
      "width": null
     }
    },
    "89b7ea42b66e4ea5952f13cea491b9bf": {
     "model_module": "@jupyter-widgets/base",
     "model_module_version": "1.2.0",
     "model_name": "LayoutModel",
     "state": {
      "_model_module": "@jupyter-widgets/base",
      "_model_module_version": "1.2.0",
      "_model_name": "LayoutModel",
      "_view_count": null,
      "_view_module": "@jupyter-widgets/base",
      "_view_module_version": "1.2.0",
      "_view_name": "LayoutView",
      "align_content": null,
      "align_items": null,
      "align_self": null,
      "border": null,
      "bottom": null,
      "display": null,
      "flex": null,
      "flex_flow": null,
      "grid_area": null,
      "grid_auto_columns": null,
      "grid_auto_flow": null,
      "grid_auto_rows": null,
      "grid_column": null,
      "grid_gap": null,
      "grid_row": null,
      "grid_template_areas": null,
      "grid_template_columns": null,
      "grid_template_rows": null,
      "height": null,
      "justify_content": null,
      "justify_items": null,
      "left": null,
      "margin": null,
      "max_height": null,
      "max_width": null,
      "min_height": null,
      "min_width": null,
      "object_fit": null,
      "object_position": null,
      "order": null,
      "overflow": null,
      "overflow_x": null,
      "overflow_y": null,
      "padding": null,
      "right": null,
      "top": null,
      "visibility": null,
      "width": null
     }
    },
    "93633618c22a48b88dda45059886daf4": {
     "model_module": "@jupyter-widgets/controls",
     "model_module_version": "1.5.0",
     "model_name": "DescriptionStyleModel",
     "state": {
      "_model_module": "@jupyter-widgets/controls",
      "_model_module_version": "1.5.0",
      "_model_name": "DescriptionStyleModel",
      "_view_count": null,
      "_view_module": "@jupyter-widgets/base",
      "_view_module_version": "1.2.0",
      "_view_name": "StyleView",
      "description_width": ""
     }
    },
    "b2eadb5f487e45f983771b9c4601ee78": {
     "model_module": "@jupyter-widgets/controls",
     "model_module_version": "1.5.0",
     "model_name": "HTMLModel",
     "state": {
      "_dom_classes": [],
      "_model_module": "@jupyter-widgets/controls",
      "_model_module_version": "1.5.0",
      "_model_name": "HTMLModel",
      "_view_count": null,
      "_view_module": "@jupyter-widgets/controls",
      "_view_module_version": "1.5.0",
      "_view_name": "HTMLView",
      "description": "",
      "description_tooltip": null,
      "layout": "IPY_MODEL_b81d3faa449543a183922d2eafefe47e",
      "placeholder": "​",
      "style": "IPY_MODEL_93633618c22a48b88dda45059886daf4",
      "value": " 3.39G/3.39G [01:08&lt;00:00, 56.6MB/s]"
     }
    },
    "b81d3faa449543a183922d2eafefe47e": {
     "model_module": "@jupyter-widgets/base",
     "model_module_version": "1.2.0",
     "model_name": "LayoutModel",
     "state": {
      "_model_module": "@jupyter-widgets/base",
      "_model_module_version": "1.2.0",
      "_model_name": "LayoutModel",
      "_view_count": null,
      "_view_module": "@jupyter-widgets/base",
      "_view_module_version": "1.2.0",
      "_view_name": "LayoutView",
      "align_content": null,
      "align_items": null,
      "align_self": null,
      "border": null,
      "bottom": null,
      "display": null,
      "flex": null,
      "flex_flow": null,
      "grid_area": null,
      "grid_auto_columns": null,
      "grid_auto_flow": null,
      "grid_auto_rows": null,
      "grid_column": null,
      "grid_gap": null,
      "grid_row": null,
      "grid_template_areas": null,
      "grid_template_columns": null,
      "grid_template_rows": null,
      "height": null,
      "justify_content": null,
      "justify_items": null,
      "left": null,
      "margin": null,
      "max_height": null,
      "max_width": null,
      "min_height": null,
      "min_width": null,
      "object_fit": null,
      "object_position": null,
      "order": null,
      "overflow": null,
      "overflow_x": null,
      "overflow_y": null,
      "padding": null,
      "right": null,
      "top": null,
      "visibility": null,
      "width": null
     }
    },
    "c3053e733101432985d8a9e480d2a29b": {
     "model_module": "@jupyter-widgets/base",
     "model_module_version": "1.2.0",
     "model_name": "LayoutModel",
     "state": {
      "_model_module": "@jupyter-widgets/base",
      "_model_module_version": "1.2.0",
      "_model_name": "LayoutModel",
      "_view_count": null,
      "_view_module": "@jupyter-widgets/base",
      "_view_module_version": "1.2.0",
      "_view_name": "LayoutView",
      "align_content": null,
      "align_items": null,
      "align_self": null,
      "border": null,
      "bottom": null,
      "display": null,
      "flex": null,
      "flex_flow": null,
      "grid_area": null,
      "grid_auto_columns": null,
      "grid_auto_flow": null,
      "grid_auto_rows": null,
      "grid_column": null,
      "grid_gap": null,
      "grid_row": null,
      "grid_template_areas": null,
      "grid_template_columns": null,
      "grid_template_rows": null,
      "height": null,
      "justify_content": null,
      "justify_items": null,
      "left": null,
      "margin": null,
      "max_height": null,
      "max_width": null,
      "min_height": null,
      "min_width": null,
      "object_fit": null,
      "object_position": null,
      "order": null,
      "overflow": null,
      "overflow_x": null,
      "overflow_y": null,
      "padding": null,
      "right": null,
      "top": null,
      "visibility": null,
      "width": null
     }
    },
    "c8bca5cf80de4948ad86ed9b08469b75": {
     "model_module": "@jupyter-widgets/controls",
     "model_module_version": "1.5.0",
     "model_name": "HBoxModel",
     "state": {
      "_dom_classes": [],
      "_model_module": "@jupyter-widgets/controls",
      "_model_module_version": "1.5.0",
      "_model_name": "HBoxModel",
      "_view_count": null,
      "_view_module": "@jupyter-widgets/controls",
      "_view_module_version": "1.5.0",
      "_view_name": "HBoxView",
      "box_style": "",
      "children": [
       "IPY_MODEL_3d0983ae13a34bd9a1635309867cb9cd",
       "IPY_MODEL_c8fbb3415ad941d0b138bc5743f77ac3",
       "IPY_MODEL_b2eadb5f487e45f983771b9c4601ee78"
      ],
      "layout": "IPY_MODEL_89b7ea42b66e4ea5952f13cea491b9bf"
     }
    },
    "c8fbb3415ad941d0b138bc5743f77ac3": {
     "model_module": "@jupyter-widgets/controls",
     "model_module_version": "1.5.0",
     "model_name": "FloatProgressModel",
     "state": {
      "_dom_classes": [],
      "_model_module": "@jupyter-widgets/controls",
      "_model_module_version": "1.5.0",
      "_model_name": "FloatProgressModel",
      "_view_count": null,
      "_view_module": "@jupyter-widgets/controls",
      "_view_module_version": "1.5.0",
      "_view_name": "ProgressView",
      "bar_style": "success",
      "description": "",
      "description_tooltip": null,
      "layout": "IPY_MODEL_499b50c69b2a43e18aacf4214ecd5b7c",
      "max": 3644258522,
      "min": 0,
      "orientation": "horizontal",
      "style": "IPY_MODEL_27d2150a6c6a4291bcfee282f491df88",
      "value": 3644258522
     }
    },
    "de9d707864cd47c28ce47383890c023b": {
     "model_module": "@jupyter-widgets/controls",
     "model_module_version": "1.5.0",
     "model_name": "DescriptionStyleModel",
     "state": {
      "_model_module": "@jupyter-widgets/controls",
      "_model_module_version": "1.5.0",
      "_model_name": "DescriptionStyleModel",
      "_view_count": null,
      "_view_module": "@jupyter-widgets/base",
      "_view_module_version": "1.2.0",
      "_view_name": "StyleView",
      "description_width": ""
     }
    }
   }
  }
 },
 "nbformat": 4,
 "nbformat_minor": 1
}
